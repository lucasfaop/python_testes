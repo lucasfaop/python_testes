{
 "cells": [
  {
   "cell_type": "markdown",
   "metadata": {},
   "source": [
    "# <center> Introdução ao Python e Pandas </center>\n",
    "___\n",
    "\n",
    "## Conteúdo\n",
    "1. [Introdução](#intro)\n",
    "2. [Python/Jupyter Básico](#basics)\n",
    "3. [Python Datatypes](#datatypes)\n",
    "4. [Funções](#funpac)\n",
    "5. [Pacote Pandas](#pandas)<br>\n",
    "\n",
    "<a id=\"intro\"></a>\n",
    "## 1. Introdução\n",
    "\n",
    "Essa aula faz parte do programa de formação do NEO. Seu objetivo é introduzir o aluno a uma das ferramentas mais importantes em análise de dados: a linguagem de programação em Python com ênfase na biblioteca Pandas. \n",
    "\n",
    "Utilizaremos o Jupyter Notebook para o acompanhamento da aula. Para isso, é pré-requisito sua instalação, bem como o Python 3. Ambos são disponibilizados se você instalar o software Anaconda 3.\n",
    "\n",
    "O formato da aula propõe que o aluno consiga acompanhar o material e fazer os exercícios ao mesmo tempo. Todo material necessário para a aula está presente neste notebook, porém, colocamos algumas sugestões de conteúdo caso o aluno tenha interesse em alguns assuntos mais específicos, explicitados através de links durante o material.\n",
    "\n",
    "É a primeira vez que estamos testando as aulas neste formato e, portanto, é muito importante que os alunos participem da melhoria delas com feedbacks! Boa aula!"
   ]
  },
  {
   "cell_type": "markdown",
   "metadata": {},
   "source": [
    "<a id=\"basics\"></a>\n",
    "## 2. Python/Jupyter Básico\n",
    "\n",
    "### 2.1. O que é Python?\n",
    "Python é uma das [mais populares linguagens de programação do mundo](https://www.businessinsider.com/the-10-most-popular-programming-languages-according-to-github-2018-10). Se você quiser fazer um website ou colocar um modelo de machine learning em produção, o Python pode te levar lá! Abaixo estão listados alguns highlights da linguagem:\n",
    "- Linguagem de propósito geral (a linguagem pode ser utilizada para qualquer aplicação)\n",
    "- Open-source (seu uso é gratuito!)\n",
    "- Fácil de ler e escrever (Python possui uma sintaxe bem fácil! Além disso, sua comunidade é gigantesca, fazendo com que seja uma das linguagens mais fáceis de aprender!)\n",
    "- Uma das linguagens mais populares para data science\n",
    "- Uma das preferidas por cientistas da computação e desenvolvedores\n",
    "- Comumente utilizada para colocar modelos em produção\n",
    "\n",
    "### 2.2. O que é Jupyter?\n",
    "\"Jupyter\" é um acrônimo que significa Julia, Python, and R. Essas linguagens de programação foram as primeiras utilizadas na aplicação Jupyter, mas, atualmente, o notebook também suporta  [muitas outras linguagens](https://github.com/jupyter/jupyter/wiki/Jupyter-kernels).\n",
    "\n",
    "Por se tratar de uma aplicação server-client, o Jupyter Notebook App permite ao usuário fazer a edição e execução de seus notebooks via web browser (Chrome, por exemplo). A aplicação pode ser executada em um PC sem acesso a Internet. \n",
    "\n",
    "- É possível executar um documento notebook step-by-step (uma célula por vez) pressionando shift + enter.\n",
    "- É possível executar todo o notebook em um único passo. Para isso, basta clicar no menu Cell -> Run All.\n",
    "- Para reiniciar o kernel (i.e., o engine), clique no menu Kernel -> Restart. Isso pode ser útil quando você quer reinicializar o processamentos desde o começo (nesse caso, as variáveis são deletadas, arquivos abertos são fechados, etc...).\n",
    "\n",
    "**Keyboard Navigation**\n",
    "\n",
    "Essa interface do Jupyter Notebook foi **otimizada para eficiente uso com o teclado**. Isso é possível porque há dois modos diferentes de atalhos com o teclado: modo de edição (edition mode) e modo de comando (command mode).\n",
    "\n",
    "Os atalhos mais importantes são \"Enter\", que entra no modo de edição, e \"Esc\", que entra no modo de comando.\n",
    "\n",
    "No modo de edição, a maior parte do teclado está disponível para digitar nas células do notebook. Por conta disso, no modo de edição não há muitos atalhos disponíveis. Já no modo de comando, o teclado inteiro pode ser utilizado para atalhos, portanto, existem muito mais atalhos. Se você clicar em *Help->Keyboard Shortcuts*, será possível ver toda a lista de atalhos disponível.\n",
    "\n",
    "Recomenda-se aprender os atalhos do modo de comando na seguinte ordem:\n",
    "\n",
    "- Navegação básica: enter, shift-enter, up/k, down/j\n",
    "- Salvar o notebook: s\n",
    "- Mudar o tipo da célula (code, markdown, etc...): y, m, 1-6, t\n",
    "- Criação de célula: a, b\n",
    "- Edição de célula: x, c, v, d, z\n",
    "- Kernel operations: i, 0 (pressionar duas vezes)\n",
    "\n",
    "Apesar de esses atalhos representarem o que você mais utilizará no cotidiano, existem algumas [dicas e macetes](https://www.dataquest.io/blog/jupyter-notebook-tips-tricks-shortcuts) que podem melhorar sua experiência com a aplicação Jupyter Notebook."
   ]
  },
  {
   "cell_type": "markdown",
   "metadata": {},
   "source": [
    "### 2.3. Hello ~~World~~ Python!\n",
    "Não poderíamos começar a aprender Python sem utilizar o exemplo clássico [Hello World](https://en.wikipedia.org/wiki/%22Hello,_World!%22_program), né?\n",
    "\n",
    "Pressione ctrl+Enter para executar o código abaixo."
   ]
  },
  {
   "cell_type": "code",
   "execution_count": null,
   "metadata": {},
   "outputs": [],
   "source": [
    "print(\"Hello World!\") #Lembre-se que shift+enter vai executar a célula atual e selecionar a próxima célula"
   ]
  },
  {
   "cell_type": "markdown",
   "metadata": {},
   "source": [
    "Parabéns!!! Você acabou de executar sua primeira linha de código em Python. Foi bem fácil, né?\n",
    "\n",
    "Agora, para a linguagem Python, esse exemplo é, de fato, fácil, mas é bem importante, já que [muitas coisas mudaram do Python2 para o Python3](https://docs.python.org/3/whatsnew/index.html) e o comando *print* é uma delas.\n",
    "\n",
    "No **Python3**, que é a versão que estamos utilizando nessa aula, o comando *print* é uma função:"
   ]
  },
  {
   "cell_type": "code",
   "execution_count": null,
   "metadata": {
    "collapsed": true,
    "jupyter": {
     "outputs_hidden": true
    }
   },
   "outputs": [],
   "source": [
    "print (\"print is a function\")"
   ]
  },
  {
   "cell_type": "markdown",
   "metadata": {},
   "source": [
    "No **Python2**, entretanto, o comando *print* é um statement (então um erro é sinalizado):"
   ]
  },
  {
   "cell_type": "code",
   "execution_count": null,
   "metadata": {
    "collapsed": true,
    "jupyter": {
     "outputs_hidden": true
    }
   },
   "outputs": [],
   "source": [
    "print \"print is a statement\""
   ]
  },
  {
   "cell_type": "markdown",
   "metadata": {},
   "source": [
    "#### Exercício 2.1"
   ]
  },
  {
   "cell_type": "code",
   "execution_count": null,
   "metadata": {
    "collapsed": true,
    "jupyter": {
     "outputs_hidden": true
    }
   },
   "outputs": [],
   "source": [
    "# Tente Printar seu nome\n"
   ]
  },
  {
   "cell_type": "markdown",
   "metadata": {},
   "source": [
    "### 2.4 Comentários\n",
    "Na maioria das linguagens de programação, se não todas, é possível adicionar comentaŕios ao seu código. Comentários são muito importantes para garantir que outras pessoas (e, algumas vezes, até você mesmo) possam entender seu código sem, necessariamente, ter que interpretá-lo linha a linha. Comentários são peças chave na hora de debugar erros em códigos e não devem ser subestimados.\n",
    "\n",
    "Em Python, você pode usar o sinal \"#\" para adicionar códigos ao seu script. Esses comentários não serão executados e interpretados pelo Pythons, então, eles não irão influenciar no resultado do script!"
   ]
  },
  {
   "cell_type": "code",
   "execution_count": null,
   "metadata": {
    "collapsed": true,
    "jupyter": {
     "outputs_hidden": true
    }
   },
   "outputs": [],
   "source": [
    "print(\"Isso será printado.\")  # print(\"Isso não será printado\")"
   ]
  },
  {
   "cell_type": "markdown",
   "metadata": {},
   "source": [
    "#### Exercício 2.2"
   ]
  },
  {
   "cell_type": "code",
   "execution_count": null,
   "metadata": {
    "collapsed": true,
    "jupyter": {
     "outputs_hidden": true
    }
   },
   "outputs": [],
   "source": [
    "#No código abaixo, comente o print que diz \"Eu NÃO quero printar isso!\"\n",
    "print(\"Eu quero printar isso!\")\n",
    "print(\"Eu NÃO quero printar isso!\")"
   ]
  },
  {
   "cell_type": "markdown",
   "metadata": {},
   "source": [
    "### 2.5 Python como calculadora  - Operações básicas\n",
    "\n",
    "#### 2.5.1 Operações Matemáticas\n",
    "Python é perfeitamente utilizável para fazer cálculos básicos. Além das operações de adição, subtração, multiplicação e divisão, também é possível fazer operações matemáticas muito mais avançadas, como por exemplo:\n",
    "\n",
    "- **Exponenciação** (\\*\\*): Esse operador eleva o número da esquerda (base) ao número da direita (expoente). Por exemplo, 4\\*\\*2 resultará 16.\n",
    "- **Módulo** (%): Esse operador retorna o resto da divisão do número da esquerda pelo número da direita. Por exemplo, 18 % 7 é igual a 4.\n"
   ]
  },
  {
   "cell_type": "code",
   "execution_count": null,
   "metadata": {
    "collapsed": true,
    "jupyter": {
     "outputs_hidden": true
    }
   },
   "outputs": [],
   "source": [
    "# Adição\n",
    "print(7 + 5)\n",
    "\n",
    "# Subtração\n",
    "print(7 - 5)\n",
    "\n",
    "# Multiplicação\n",
    "print(7 * 5)\n",
    "\n",
    "# Divisão\n",
    "print(7 / 5)\n",
    "\n",
    "# Módulo\n",
    "print(7 % 5)\n",
    "\n",
    "# Exponenciação\n",
    "print(7 ** 5)"
   ]
  },
  {
   "cell_type": "markdown",
   "metadata": {},
   "source": [
    "#### Exercício 2.3\n",
    "Suponha que você tenha \\$100 e que você queira investir esse montante com uma taxa de retorno de 10\\% ao ano. Após um ano, você vai ter 100×1.1=110 reais. Após dois anos, você vai ter 100×1.1×1.1=121 reais. Escreva um código na célula abaixo, que printe quanto de capital você terá com esse investimento **após 25 anos**."
   ]
  },
  {
   "cell_type": "code",
   "execution_count": null,
   "metadata": {
    "collapsed": true,
    "jupyter": {
     "outputs_hidden": true
    }
   },
   "outputs": [],
   "source": [
    "#Escreva sua resposta aqui\n",
    "\n",
    "\n",
    "#Dica: você pode resolver o problema utilizando apenas multiplicações, ou utilizando multiplicação e \n",
    "# exponenciação. Qual deles você considera mais fácil?"
   ]
  },
  {
   "cell_type": "markdown",
   "metadata": {},
   "source": [
    "#### 2.5.2 Operações lógicas (booleana)\n",
    "Python também suporta operadores lógicos e eles são realmente úteis quando esamos lidando com testes condicionais no código (não se preocupe, iremos explicar esse tópico mais pra frente). Essas operações lógicas retornam apenas resultados lógicos (booleanos) e elas podem ser classificadas nas seguintes categorias:\n",
    "\n",
    "**Comparações**\n",
    "\n",
    "Como o próprio nome sugere, essas operações comparam dois objetos e são muito úteis para determinar o comportamento do seu código em vários cenários (são muito úteis para executar o código bloco a bloco e entender se ele está fazendo o que é esperado)."
   ]
  },
  {
   "cell_type": "code",
   "execution_count": null,
   "metadata": {
    "collapsed": true,
    "jupyter": {
     "outputs_hidden": true
    }
   },
   "outputs": [],
   "source": [
    "#Igual [==]. O operador == compara os VALORES dos operandos e checa a igualdade de VALORES\n",
    "print(10 == 10)\n",
    "print(\"Hi\" == \"Hello\")\n",
    "print (10.0 == 10)#Por que essa operação retorna verdadeiro? Porque o operador == compara VALORES e não TIPOS\n",
    "\n",
    "#Maior [>] (ou igual [>=]) que\n",
    "print(5 > 3)\n",
    "print(5.0 > 5) \n",
    "\n",
    "#Menor [<] (ou igual [<=]) que\n",
    "print(5 < 3)\n",
    "print(\"bcdefghyjklmnopqrstuvwxyz\" < \"a\") #Por que essa operação retorna falso? Porque o Python compara strings char por char! \n",
    "\n",
    "#Diferente de [!=]\n",
    "print(\"Hi\" != \"Bye\")\n",
    "print (\"CASE SENSITIVE\" != \"Case Sensitive\")"
   ]
  },
  {
   "cell_type": "markdown",
   "metadata": {},
   "source": [
    "#### Exercício 2.4\n",
    "Tente adivinhar o output das seguintes comparações. Comente seus palpites e execute o código para ver se você estava certo! *Lembre-se que essas operações retornam apenas valore lógicos, i.e., True ou False*"
   ]
  },
  {
   "cell_type": "code",
   "execution_count": null,
   "metadata": {
    "collapsed": true,
    "jupyter": {
     "outputs_hidden": true
    }
   },
   "outputs": [],
   "source": [
    "print(5 <= 5) #Seu palpite é: \n",
    "\n",
    "print(\"HI\" == \"Hi\") #Seu palpite é: \n",
    "\n",
    "print(5 == (10/2.0)) #Seu palpite é:  \n",
    "\n",
    "print(5.0 != 5) #Seu palpite é: \n",
    "\n",
    "print(\"Hello\" > \"Hi\") #Seu palpite é: \n",
    "\n",
    "print(\"5.0\" > \"5\") #Seu palpite é: "
   ]
  },
  {
   "cell_type": "markdown",
   "metadata": {},
   "source": [
    "**Bitwise**\n",
    "\n",
    "Para simplificar, essas operações funcionam similarmente aos clássicos AND, OR, NOT, etc. Elas são chamadas de bitwise porque são executam a operação bit a bit!"
   ]
  },
  {
   "cell_type": "code",
   "execution_count": null,
   "metadata": {
    "collapsed": true,
    "jupyter": {
     "outputs_hidden": true
    }
   },
   "outputs": [],
   "source": [
    "#AND (&)\n",
    "print(False & False)\n",
    "print(True & True)\n",
    "print(True & True & True & True & False & True & True & True  & True)\n",
    "\n",
    "#OR (|)\n",
    "print(True | False)\n",
    "print(False | False)\n",
    "print(False | False & False | True | False | False | False | False | False)\n",
    "\n",
    "#NOT (~)\n",
    "print(bool(~False)) #bool() converte o tipo de um dado objeto em booleano. Nós iremos falar sobre isso mais tarde!"
   ]
  },
  {
   "cell_type": "markdown",
   "metadata": {},
   "source": [
    "#### Exercício 2.5\n",
    "Tente adivinhar o output das seguintes comparações. Comente seus palpites e execute o código para ver se você estava certo! *Lembre-se que essas operações retornam apenas valore lógicos, i.e., True ou False*"
   ]
  },
  {
   "cell_type": "code",
   "execution_count": null,
   "metadata": {
    "collapsed": true,
    "jupyter": {
     "outputs_hidden": true
    }
   },
   "outputs": [],
   "source": [
    "print(False | False) #Seu palpite é: \n",
    "\n",
    "print(True & False) #Seu palpite é: \n",
    "\n",
    "#Dica: Python trata zero como False and todos os outros número são True (positivos ou negativos)\n",
    "print(bool(5 & 0)) #Seu palpite é: \n",
    "\n",
    "print(bool(5 & 1)) #Seu palpite é: \n",
    "\n",
    "print(bool(5 | -1)) #Seu palpite é:  "
   ]
  },
  {
   "cell_type": "markdown",
   "metadata": {},
   "source": [
    "**Pertence a**\n",
    "\n",
    "Essa operação checa se um objeto está dentro/contido de algum outro objeto. Para fazer isso, você deve usar os operadores **in** e **not in**. Veja:"
   ]
  },
  {
   "cell_type": "code",
   "execution_count": null,
   "metadata": {
    "collapsed": true,
    "jupyter": {
     "outputs_hidden": true
    }
   },
   "outputs": [],
   "source": [
    "#Pertence a\n",
    "print(\"The force is with\" in \"me\")\n",
    "print(\"The force is\" not in \"with me\")"
   ]
  },
  {
   "cell_type": "markdown",
   "metadata": {},
   "source": [
    "#### Exercício 2.6\n",
    "Tente adivinhar o output das seguintes comparações. Comente seus palpites e execute o código para ver se você estava certo! *Lembre-se que essas operações retornam apenas valore lógicos, i.e., True ou False*"
   ]
  },
  {
   "cell_type": "code",
   "execution_count": null,
   "metadata": {
    "collapsed": true,
    "jupyter": {
     "outputs_hidden": true
    }
   },
   "outputs": [],
   "source": [
    "print(\"Hello\" in \"Hello\") #Seu palpite é:  \n",
    "\n",
    "print(\"HELLO\" in \"Hello\") #Seu palpite é: \n",
    "\n",
    "print(\"Hello\" not in \"darkness my old friend\") #Seu palpite é: \n",
    "\n",
    "print(\"5\" in \"25\") #Seu palpite é: \n",
    "\n",
    "print(\"5.0\" in \"5\") #Seu palpite é: \n",
    "\n",
    "print (\"This is a test\" not in \"This is not a test\") #Seu palpite é: "
   ]
  },
  {
   "cell_type": "markdown",
   "metadata": {},
   "source": [
    "### 2.6 Variáveis e Tipos\n",
    "\n",
    "Em Python, uma variável nada mais é que um **label**. Considere que uma variável seja um nome atrelado a um objeto, mas **não é o próprio objeto!** No Python, não é necessário realizar declaração de variáveis (como é necessário em muitas outras linguagens de programação). A variável é criada no momento que você atribui um valor a ela. **Assignment (atribuição de valor)** é feita com sinal de igual simples (=):"
   ]
  },
  {
   "cell_type": "code",
   "execution_count": null,
   "metadata": {
    "collapsed": true,
    "jupyter": {
     "outputs_hidden": true
    }
   },
   "outputs": [],
   "source": [
    "#Criando uma variável x ao atribuir um valor\n",
    "\n",
    "x = 5 #Lê-se como algo do tipo “a x é atribuído o valor 5\".\n",
    "\n",
    "\n",
    "#Uma vez que a atribuição é feita, a variável poderá ser usada em qualquer expressão, e seu valor poderá ser substituído\n",
    "print(x)"
   ]
  },
  {
   "cell_type": "markdown",
   "metadata": {},
   "source": [
    "![Imgur](https://i.imgur.com/I3KOq2E.jpg)."
   ]
  },
  {
   "cell_type": "markdown",
   "metadata": {},
   "source": [
    "#### Nomes de variáveis\n",
    "Uma variável pode ter um nome curto (como x ou y) ou um nome mais descritivo (idade, nome_carro, volume_total). [Regras para nomes de variáveis](https://www.python.org/dev/peps/pep-0008/#function-and-variable-names) no Python podem ser sintetizadas da seguinte forma:\n",
    "- Um nome de variável deve começar com uma letra ou o caractere underscore\n",
    "- Um nome de variável não pode começar com um algarismo numérico\n",
    "- Um nome de variável deve conter apenas caracteres alfanuméricos e underscores (A-z, 0-9, and _ )\n",
    "- Nomes de variáveis são case-sensitives (age, Age e AGE são três variáveis distintas)"
   ]
  },
  {
   "cell_type": "code",
   "execution_count": null,
   "metadata": {
    "collapsed": true,
    "jupyter": {
     "outputs_hidden": true
    }
   },
   "outputs": [],
   "source": [
    "#Criando três variáveis utilizando as convenções de nomes\n",
    "name = \"Felipe Goncalves\"\n",
    "age  = 27\n",
    "likes_python = True\n",
    "\n",
    "#Printando as variáveis\n",
    "print (\"Name: \", name)\n",
    "print (\"Age:  \", age)\n",
    "print (\"Likes Python? \", likes_python)"
   ]
  },
  {
   "cell_type": "markdown",
   "metadata": {},
   "source": [
    "#### Cálculos com variáveis\n",
    "Agora que já sabemos como criar variáveis com \"bons nomes\", nós podemos usá-las para fazer alguns cálculos. Vamos resolver o exercício 2.3, mas, agora, utilizando variáveis em vez de printar o resultado diretamente."
   ]
  },
  {
   "cell_type": "code",
   "execution_count": null,
   "metadata": {
    "collapsed": true,
    "jupyter": {
     "outputs_hidden": true
    }
   },
   "outputs": [],
   "source": [
    "# Crie a variável que represente o capital inicial\n",
    "savings = 100\n",
    "\n",
    "# Crie a variável growth_multiplier\n",
    "growth_multiplier = 1.1\n",
    "\n",
    "# Cria a variável que contenha o período de investimento (em anos)\n",
    "time_investing = 25\n",
    "\n",
    "# Calcule o resultado\n",
    "result = savings * growth_multiplier ** time_investing\n",
    "\n",
    "# Printe o resultado\n",
    "print(\"O montante acumulado por \", name, \", ao longo de\", time_investing, \"anos, foi de \", result, \"reais!\")"
   ]
  },
  {
   "cell_type": "markdown",
   "metadata": {},
   "source": [
    "#### Outros Tipos de Variáveis\n",
    "Nas seções anteriores, nós lidamos com números inteiros, números não-inteiros e strings (textos). Esses são alguns de muitos [tipos de dados do Python](https://docs.python.org/3/library/datatypes.html), mas existem quatro principais tipos de dados:\n",
    "\n",
    "- **int**: números inteiros. Ex: 0, 100, -3, etc;\n",
    "- **float**: um número que possui tanto uma parte inteira quanto uma parte fracionária, separada por uma casa decimal (.). Ex: 0.5, 0.33, -0.1, etc;\n",
    "- **str**: a.k.a string, é um tipo que representa texto. Você pode utilizar tanto aspas simples quantos aspas duplas para construir uma string. Ex: \"Hi\", 'Hello'\n",
    "- **bool**: representa valores lógicos a só pode assumir dois valores, *True* ou *False*."
   ]
  },
  {
   "cell_type": "code",
   "execution_count": null,
   "metadata": {
    "collapsed": true,
    "jupyter": {
     "outputs_hidden": true
    }
   },
   "outputs": [],
   "source": [
    "#Integer (int)\n",
    "integer_number = 1\n",
    "\n",
    "#Floating point (float)\n",
    "float_number = 1.0\n",
    "\n",
    "#String (str)\n",
    "text = \"Hello\"\n",
    "\n",
    "#Boolean (bool)\n",
    "python_is_fun = True"
   ]
  },
  {
   "cell_type": "markdown",
   "metadata": {},
   "source": [
    "Para descobrir o tipo de um valor ou da variável que se refere àquele valor, você pode usar a função type()!"
   ]
  },
  {
   "cell_type": "code",
   "execution_count": null,
   "metadata": {
    "collapsed": true,
    "jupyter": {
     "outputs_hidden": true
    }
   },
   "outputs": [],
   "source": [
    "#Variable types\n",
    "print(type(integer_number))\n",
    "print(type(float_number))\n",
    "print(type(text))\n",
    "print(type(python_is_fun))"
   ]
  },
  {
   "cell_type": "markdown",
   "metadata": {},
   "source": [
    "Mas como o Python assimila o tipo de uma variável? Bem, ele infere a partir to valor atribuído àquela variável. Essas linguagens de programação são conhecidas como [loosely typed programming languages](https://en.wikipedia.org/wiki/Strong_and_weak_typing)."
   ]
  },
  {
   "cell_type": "markdown",
   "metadata": {},
   "source": [
    "#### Operações com outros Tipos\n",
    "Como nós já falamos, existem vários tipos de operação que você pode fazer. Em Python, o tipo do operando afeta os outputs das operações e suas viabilidades! Vamos tentar algumas combinações diferentes!"
   ]
  },
  {
   "cell_type": "code",
   "execution_count": null,
   "metadata": {
    "collapsed": true,
    "jupyter": {
     "outputs_hidden": true
    }
   },
   "outputs": [],
   "source": [
    "# Adição\n",
    "print(True + False)\n",
    "print (\"O nome dela é \" + \"Jennifer\")\n",
    "print(True + 100)\n",
    "print(100 + 9.9)"
   ]
  },
  {
   "cell_type": "code",
   "execution_count": null,
   "metadata": {
    "collapsed": true,
    "jupyter": {
     "outputs_hidden": true
    }
   },
   "outputs": [],
   "source": [
    "# Multiplicação\n",
    "print(True * True)\n",
    "print(101 * False)\n",
    "print(\"Tuntz \" * 10)\n",
    "print(\"Hi\" * (True+True))"
   ]
  },
  {
   "cell_type": "code",
   "execution_count": null,
   "metadata": {
    "collapsed": true,
    "jupyter": {
     "outputs_hidden": true
    }
   },
   "outputs": [],
   "source": [
    "# Exponenciação\n",
    "print(True**9999)\n",
    "print(100 ** False)"
   ]
  },
  {
   "cell_type": "markdown",
   "metadata": {},
   "source": [
    "#### Exercício 2.7\n",
    "\n",
    "Responda as questões no código abaixo"
   ]
  },
  {
   "cell_type": "code",
   "execution_count": null,
   "metadata": {
    "collapsed": true,
    "jupyter": {
     "outputs_hidden": true
    }
   },
   "outputs": [],
   "source": [
    "#Printe o resultado de uma adição que não utiliza nenhum integer ou float, porém retorne um número\n",
    "\n",
    "#Printe o resultado de uma exponenciação que não utiliza nenhum integer ou float, porém retorne um número\n"
   ]
  },
  {
   "cell_type": "markdown",
   "metadata": {},
   "source": [
    "#### Conversão de Tipo\n",
    "Se você tentou fazer diferentes combinações no exercício anterior, você deve ter visto alguns erros e isso está ok!\n",
    "Vamos observar o código abaixo (apenas tenha certeza que você já atribuiu os valores dessas variáveis neste notebook)!"
   ]
  },
  {
   "cell_type": "code",
   "execution_count": null,
   "metadata": {
    "collapsed": true,
    "jupyter": {
     "outputs_hidden": true
    }
   },
   "outputs": [],
   "source": [
    "#Printe com erro\n",
    "print(\"Eu comecei com $\" + savings + \" e agora eu tenho $\" + result + \". Ótimo!!\")"
   ]
  },
  {
   "cell_type": "markdown",
   "metadata": {},
   "source": [
    "No exemplo acima, se você olhar para a mensagem de erro, verá que foi um *TypeError*. Nós não vamos entrar nesses detalhes agora, mas você pode assumir que esse erro é causado pelo tipo de uma ou mais variáveis/valores que tentamos printar. Neste caso, nós tentamos adicionar uma string a um número e isso não é permitido nas regras da sintaxe do Python. Seria maneiro se fosse possível fazer isso, não seria? \n",
    "\n",
    "Para consertar esse erro, nós precisamos explicitamente converter os tipos das variáveis. Mais especificamente, nós precisaremos da função [str()](https://docs.python.org/3/library/functions.html#func-str) para converter um valor para uma string. *str(savings)*, por exemplo, vai converter o float *savings* para uma string.\n",
    "\n",
    "![str](https://pics.me.me/me-print-num-x-x-python-hey-m8-you-cant-add-a-41960345.png)"
   ]
  },
  {
   "cell_type": "code",
   "execution_count": null,
   "metadata": {
    "collapsed": true,
    "jupyter": {
     "outputs_hidden": true
    }
   },
   "outputs": [],
   "source": [
    "# print correto\n",
    "print(\"Eu comecei com $\" + str(savings) + \" e agora eu tenho $\" + str(result) + \". Ótimo!!\")"
   ]
  },
  {
   "cell_type": "markdown",
   "metadata": {},
   "source": [
    "Outras funções de conversão de tipo:\n",
    "[int()](https://docs.python.org/3/library/functions.html#int), [float()](https://docs.python.org/3/library/functions.html#float) e [bool()](https://docs.python.org/3/library/functions.html#bool) vão ajudar você a converter valores para qualquer tipo!"
   ]
  },
  {
   "cell_type": "code",
   "execution_count": null,
   "metadata": {
    "collapsed": true,
    "jupyter": {
     "outputs_hidden": true
    }
   },
   "outputs": [],
   "source": [
    "#Atribuição de variáveis\n",
    "integer = 1\n",
    "float_number = 3.1415\n",
    "string = \"3\"\n",
    "boolean = True\n",
    "\n",
    "#str\n",
    "print(\"--------str()---------\")\n",
    "print(\"The integer is now a string! Look: \" + str(integer))\n",
    "print(\"The float is now a string! Look: \" + str(float_number))\n",
    "print(\"The boolean is now a string! Look: \" + str(boolean))\n",
    "\n",
    "print(\"--------int()---------\")\n",
    "#int\n",
    "print(\"The float is now an integer! Look: \", int(float_number)) #Você pode dizer por que não podemos usar \"+\" aqui?\n",
    "print(\"The boolean is now an integer! Look: \", int(boolean))    #Isso será explicado na seção de funções\n",
    "print(\"The string is now an integer! Look: \", int(string))\n",
    "\n",
    "print(\"--------float()---------\")\n",
    "#float\n",
    "print(\"The integer is now a float! Look: \", float(integer))\n",
    "print(\"The string is now a float! Look: \", float(string))\n",
    "print(\"The boolean is now a float! Look: \", float(boolean))\n",
    "\n",
    "print(\"--------bool()---------\")\n",
    "#bool\n",
    "print(\"The integer is now a boolean! Look: \", bool(integer))\n",
    "print(\"The float is now a boolean! Look: \", bool(float_number))\n",
    "print(\"The string is now a boolean! Look: \", bool(string))"
   ]
  },
  {
   "cell_type": "markdown",
   "metadata": {},
   "source": [
    "### 2.8 Estruturas de decisão (Decision structures)\n",
    "Até agora, todos os exemplos seguiram um fluxo contínuo, onde todas as linhas de código de uma mesma célula foram executadas. Entretanto, em aplicações reais, isso raramente é o que acontece e, nesses casos, nós temos que usar o que chamamos de **decision structures** para redirecionar o fluxo de execução baseado em critérios condicionais que guiam o programa. Para fazer isso no Python, nós usamos **if**, **else** e **elif** statements, que possuem a seguinte estrutura genérica:"
   ]
  },
  {
   "cell_type": "code",
   "execution_count": null,
   "metadata": {
    "collapsed": true,
    "jupyter": {
     "outputs_hidden": true
    }
   },
   "outputs": [],
   "source": [
    "#if(logical condition 1 ):\n",
    "#    executes this block of code if logical conditional 1 is true\n",
    "#    block of code\n",
    "#    block of code\n",
    "#elif(logical condition 2):\n",
    "#    executes this block of code if logical conditional 2 is true\n",
    "#    block of code\n",
    "#    block of code\n",
    "#elif(logical condition 3):\n",
    "#    executes this block of code if logical conditional 3 is true\n",
    "#    block of code\n",
    "#    block of code\n",
    "#         .\n",
    "#         .\n",
    "#         .\n",
    "#else:\n",
    "#    executes this block of code if none of the previous logical conditions was True\n",
    "#    block of code\n",
    "#    block of code"
   ]
  },
  {
   "cell_type": "markdown",
   "metadata": {},
   "source": [
    "Antes que continuemos, é importante observar que, no Python, não existe nenhum caractere que indique um bloco de código, como há em muitas outras linguagens de programação (comumente o ;). Na verdade, o que o Python considera como o início de um novo bloco de código está baseado apenas na **indentação/tabulação** do código!!! **Isso é muito importante para o Python! Prestem atenção na indentação dos seus scripts, pois um tab a mais (ou a menos) pode mudar toda a lógica do seu código!!!!** Vamos observar a seguinte imagem e exemplo:\n",
    "![Identation](https://www.python-course.eu/images/blocks.png)"
   ]
  },
  {
   "cell_type": "code",
   "execution_count": null,
   "metadata": {
    "collapsed": true,
    "jupyter": {
     "outputs_hidden": true
    }
   },
   "outputs": [],
   "source": [
    "#Programa que diz se um aluno vai passar na disciplina, dada a sua nota final\n",
    "grade = 6 # Nota final do aluno\n",
    "\n",
    "#Estrutura de decisão/lógica\n",
    "if (grade >= 7):\n",
    "    print(\"Aprovado!\")\n",
    "elif ((grade < 7) & (grade >= 5)):\n",
    "    print(\"Recuperação\")\n",
    "else:\n",
    "    print(\"Reprovado!\")\n"
   ]
  },
  {
   "cell_type": "markdown",
   "metadata": {},
   "source": [
    "#### Exercício 2.8\n",
    "\n",
    "Baseado no exemplo acima e sabendo que a nota final deva ser maior que 7 E a presença nas aulas deva ser maior que 70% para um aluno ser aprovado diretamente, e que para um aluno ter direito a recuperação, é necessário que sua nota seja maior ou igual a 5 E sua presença seja ao menos 50%, modifique o código abaixo para que ele leve em conta a condição de presença de aulas do aluno. Printe o resultado!"
   ]
  },
  {
   "cell_type": "code",
   "execution_count": null,
   "metadata": {
    "collapsed": true,
    "jupyter": {
     "outputs_hidden": true
    }
   },
   "outputs": [],
   "source": [
    "#Programa que diz se um aluno vai passar na disciplina, dada a sua nota final\n",
    "grade = 6 # Nota final do aluno\n",
    "attendance = 51\n",
    "\n",
    "#Estrutura de decisão/lógica\n",
    "if (grade >= 7) & (__):\n",
    "    print(\"Aprovado!\")\n",
    "elif (__) & (__):\n",
    "    print(\"Recuperação\")\n",
    "else:\n",
    "    print(\"Reprovado!\")\n",
    "\n"
   ]
  },
  {
   "cell_type": "markdown",
   "metadata": {},
   "source": [
    "### 2.8 Estruturas de laço (Looping structures)\n",
    "\n",
    "Na seção anterior, introduzimos o conceito que o usuário pode determinas quais blocos de código serão executados baseado em critérios condicionais. Entretanto, em muitas ocasiões, queremos continuar fazendo esses testes condicionais para ver se o sistema está mudando com o tempo. Existe, então, dois tipos de estruturas de laço:\n",
    "\n",
    "#### **While**\n",
    "\n",
    "O comando while continua em loop enquanto a condição de teste cotinua retornando True."
   ]
  },
  {
   "cell_type": "code",
   "execution_count": null,
   "metadata": {
    "collapsed": true,
    "jupyter": {
     "outputs_hidden": true
    }
   },
   "outputs": [],
   "source": [
    "#Counter variable\n",
    "counter = 1\n",
    "\n",
    "#While loop\n",
    "while counter <= 3: #Testa se counter <= 3. Se True, executa o bloco de código. Caso contrário, sai do loop\n",
    "    print(counter)\n",
    "    counter = counter + 1"
   ]
  },
  {
   "cell_type": "markdown",
   "metadata": {},
   "source": [
    "#### For\n",
    "Esse comando executa o loop por um determinado número de vezes. Normalmente, utiliza-se a função **range** para determinar quantos loops serão executados."
   ]
  },
  {
   "cell_type": "code",
   "execution_count": null,
   "metadata": {
    "collapsed": true,
    "jupyter": {
     "outputs_hidden": true
    }
   },
   "outputs": [],
   "source": [
    "#range(start, stop)\n",
    "selected_range = range(1,4)\n",
    "print(\"Selected range = \", *selected_range) #O operador * \"desempacota\" a sequência previamente definida\n",
    "\n",
    "#For loop\n",
    "for counter in selected_range:\n",
    "    print(counter)"
   ]
  },
  {
   "cell_type": "markdown",
   "metadata": {},
   "source": [
    "#### Interruptions\n",
    "É possível interromper a execução de um loop com os seguintes comandos:\n",
    "- **break**: cancela o loop\n",
    "- **continue** : recomeça o loop a partir do próximo contador"
   ]
  },
  {
   "cell_type": "code",
   "execution_count": null,
   "metadata": {
    "collapsed": true,
    "jupyter": {
     "outputs_hidden": true
    }
   },
   "outputs": [],
   "source": [
    "#For loop\n",
    "for counter in range(1,11):\n",
    "    if counter == 7:\n",
    "        break; #Para o looping quando counter == 7\n",
    "    print(counter)"
   ]
  },
  {
   "cell_type": "code",
   "execution_count": null,
   "metadata": {
    "collapsed": true,
    "jupyter": {
     "outputs_hidden": true
    }
   },
   "outputs": [],
   "source": [
    "#For loop\n",
    "for counter in range(1,11):\n",
    "    if counter == 7:\n",
    "        continue; #Pula o loop quando counter == 7\n",
    "    print(counter)"
   ]
  },
  {
   "cell_type": "markdown",
   "metadata": {},
   "source": [
    "#### Exercício 2.9\n",
    "\n",
    "Baseado no que você acabou de aprender, printe apenas os números múltiplos de 100, iterando o contador num range de 1 a 1000."
   ]
  },
  {
   "cell_type": "code",
   "execution_count": null,
   "metadata": {
    "collapsed": true,
    "jupyter": {
     "outputs_hidden": true
    }
   },
   "outputs": [],
   "source": [
    "#Sua resposta a seguir\n",
    "\n"
   ]
  },
  {
   "cell_type": "markdown",
   "metadata": {},
   "source": [
    "<a name=\"datatypes\"></a>\n",
    "## 3. Python Datatypes\n",
    "Um datatype, ou estrutura de dados (data structure), é uma forma de **organizar e guardar seus dados**. Existes várias estruturas de dados diferentes e algumas delas já vêm disponíveis no Python. Vamos apresentar algumas bem importantes, como strings, dicionários, tuplas e listas. <br>\n",
    "**Dica**: você pode checar o tipo de variável utilizando o comando: ```type(var)```\n",
    "\n",
    "### 3.1. Strings\n",
    "Strings são simplesmente uma **sequência de caracteres**. Para declará-los, você apenas deve colocá-los entre aspas simples ou duplas (e.g. ```\"Hello world!\"```).<br>\n",
    "Já existem algumas **operações e métodos built-in** que você pode realizar em strings (inclusive, você já aprendeu como concatenar duas strings com o operador +). Você aprenderá mais sobre o que são métodos e funções nas próximas seções.\n",
    "\n",
    "#### Exercício 3.1\n",
    "1. Tente utilizar o operador '*' entre uma string e um integer\n",
    "2. Existe alguma forma fácil de **checar se uma palavra está contida** numa string? Claro! Tente o seguinte comando: ```'world' in 'Hello world!'```"
   ]
  },
  {
   "cell_type": "code",
   "execution_count": null,
   "metadata": {
    "collapsed": true,
    "jupyter": {
     "outputs_hidden": true
    }
   },
   "outputs": [],
   "source": [
    "# Tente você mesmo\n",
    "\n",
    "text = \"Hello world!\"\n",
    "print(text)\n",
    "print(type(text)) # str stands for \"string\""
   ]
  },
  {
   "cell_type": "markdown",
   "metadata": {},
   "source": [
    "Já que strings são uma sequência de caracteres, é possível **acessá-los** individualmente pelos seus **índices (index)** (que, em Python, **começam a partir de 0**.). Digamos que você queira acessar o terceiro valor. Você precisaria, então, digitar ```text[2]```. <br>\n",
    "**Agora, tente acessar a letra r na string ```text``` pelo seu índice.**"
   ]
  },
  {
   "cell_type": "code",
   "execution_count": null,
   "metadata": {
    "collapsed": true,
    "jupyter": {
     "outputs_hidden": true
    }
   },
   "outputs": [],
   "source": [
    "# Sua resposta a seguir\n"
   ]
  },
  {
   "cell_type": "markdown",
   "metadata": {},
   "source": [
    "Os **métodos built-in implementam operações muit úteis** como mudar letras maiúsculas/minúsculas, dividir palavras, etx... Explore a documentação padrão de [built-in types in Python](https://docs.python.org/3/library/stdtypes.html) para mais informações.\n",
    "\n",
    "#### Exercício 3.2\n",
    "Tente entender os exemplos abaixo e, com a documentação já especificada (no [link acima](https://docs.python.org/3/library/stdtypes.html)), procure por uma função built-in que seja capar de substituir os espaços em branco por underscores ( _ ) e faça essa operação no último exemplo."
   ]
  },
  {
   "cell_type": "code",
   "execution_count": null,
   "metadata": {
    "collapsed": true,
    "jupyter": {
     "outputs_hidden": true
    }
   },
   "outputs": [],
   "source": [
    "# Capitalize text\n",
    "text = \"eXaMpLE tExT.\"\n",
    "print(text.capitalize())\n",
    "\n",
    "# Formatação de strings com variáveis como texto\n",
    "mult = 2*1\n",
    "text = \"The sum of 1 + 2 is {0} and 1 * 2 is {1}\".format(1+2, mult)\n",
    "print(text)\n",
    "\n",
    "# Split de string\n",
    "print(text.split())\n",
    "\n",
    "text = \"The white spaces in this string must be replaced by underscores.\"\n",
    "# Output esperado: \"The_white_spaces_must_be_replaced_by_underscores\"\n",
    "# Sua resposta a seguir\n"
   ]
  },
  {
   "cell_type": "markdown",
   "metadata": {},
   "source": [
    "### 3.2. Dicionários\n",
    "Um dicionário é uma estrutura **realmente importante e útil** que é:\n",
    "1. **não ordenada**: a ordem em que você declara os valores não é necessariamente a ordem na qual os valores são gravados\n",
    "2. **mutável**: você pode mudar seus valores\n",
    "3. **indexada**: você pode acessar diretamente o valor de cada elemento do dicionário\n",
    "\n",
    "Em Python, dictionários são escrito com chaves {}, e eles possuem **chaves (keys)** e **valores (values)**. <br>\n",
    "**Exemplo**:\n",
    "```\n",
    "population = {'SP': 45538936, 'RJ': 17159960, 'MG': 21040662, 'BA': 2}\n",
    "```\n",
    "Aqui, cada **UF** representa uma **chave** e sua **população** é associada ao **valor**. <br>\n",
    "Agora, digamos que você queira saber a população de SP, então ```population['SP']``` lhe retornaria o resultado.\n",
    "\n",
    "Obs.: Você pode, facilmente, **listar todas as chaves e valores** com os seguintes métodos built-in: **```population.keys()``` e ```population.values()```**\n",
    "\n",
    "Parece-nos que Bahia possua mais de 2 habitantes, né?\n",
    "\n",
    "#### Exercício 3.3\n",
    "Tente corrigir o valor da Bahia, cuja população é 14812617."
   ]
  },
  {
   "cell_type": "code",
   "execution_count": null,
   "metadata": {
    "collapsed": true,
    "jupyter": {
     "outputs_hidden": true
    }
   },
   "outputs": [],
   "source": [
    "population = {'SP': 45538936, 'RJ': 17159960, 'MG': 21040662, 'BA': 2}\n",
    "\n",
    "# Sua resposta a seguir\n"
   ]
  },
  {
   "cell_type": "markdown",
   "metadata": {},
   "source": [
    "Se você utilizar a mesma sintaxe para acessar uma **chave não existente** e atribuir um valor a ela, você **adicionará** outro par chave-valor ao seu dicionário.\n",
    "\n",
    "#### Exercício 3.4\n",
    "Agora, tente adicionar Paraná ao nosso dicionário. Use as seguintes variáveis para fazer isso."
   ]
  },
  {
   "cell_type": "code",
   "execution_count": null,
   "metadata": {
    "collapsed": true,
    "jupyter": {
     "outputs_hidden": true
    }
   },
   "outputs": [],
   "source": [
    "state = 'PR'\n",
    "pop = 11348937\n",
    "\n",
    "# Sua resposta a seguir\n"
   ]
  },
  {
   "cell_type": "code",
   "execution_count": null,
   "metadata": {
    "collapsed": true,
    "jupyter": {
     "outputs_hidden": true
    }
   },
   "outputs": [],
   "source": [
    "# Verifique o resultado do dicionário\n",
    "# Os elementos estão na mesma ordem que você previamente os declarou?\n",
    "population"
   ]
  },
  {
   "cell_type": "markdown",
   "metadata": {},
   "source": [
    "#### Exercício 3.5\n",
    "Usando um loop **for** e o método built-in **keys()**, printe todas as chaves do dicionário ```population``` e seus respectivos valores."
   ]
  },
  {
   "cell_type": "code",
   "execution_count": null,
   "metadata": {
    "collapsed": true,
    "jupyter": {
     "outputs_hidden": true
    }
   },
   "outputs": [],
   "source": [
    "# Sua resposta a seguir\n"
   ]
  },
  {
   "cell_type": "markdown",
   "metadata": {},
   "source": [
    "### 3.3. Tuplas (Tuples)\n",
    "Uma tupla é uma estrutura não ordenada e imutável. Também é possível guardar **diferentes tipos de dados (data types)** na mesma tupla. <br>\n",
    "Além disso, elas têm funções built-in e sua indexação é feita da mesma forma como nas strings.\n",
    "\n",
    "**Qual é a diferença entre a e b no código a seguir?**<br>\n",
    "Depois de pensar sobre a resposta, remova os comentários e execute a célula. Não é necessário escrever a resposta neste exercício."
   ]
  },
  {
   "cell_type": "code",
   "execution_count": null,
   "metadata": {
    "collapsed": true,
    "jupyter": {
     "outputs_hidden": true
    }
   },
   "outputs": [],
   "source": [
    "a = (1, 'One', True)\n",
    "a = (a, 2)\n",
    "\n",
    "b = (1, 'One', True, 2)\n",
    "\n",
    "#print(a)\n",
    "#print(b)"
   ]
  },
  {
   "cell_type": "markdown",
   "metadata": {},
   "source": [
    "#### Prática:\n",
    "Lembra-se do **operador ```in``` ** que usamos na seção de strings? Veja a utilização dele aqui coms as tuplas ```a``` e ```b```!"
   ]
  },
  {
   "cell_type": "code",
   "execution_count": null,
   "metadata": {
    "collapsed": true,
    "jupyter": {
     "outputs_hidden": true
    }
   },
   "outputs": [],
   "source": [
    "print(a in b)"
   ]
  },
  {
   "cell_type": "markdown",
   "metadata": {},
   "source": [
    "**Exercício 3.6**\n",
    "\n",
    "Por que ```'One'``` não é um elemento de ```a```?"
   ]
  },
  {
   "cell_type": "markdown",
   "metadata": {},
   "source": [
    "**Resposta:** Sua resposta aqui"
   ]
  },
  {
   "cell_type": "markdown",
   "metadata": {},
   "source": [
    "### 3.4. Listas (Lists)\n",
    "Listas também são uma estrutura **realmente importante e útil** em Python. Elas são criadas da mesma forma que tuplas, mas com colchetes, []. <br>\n",
    "Listas também são indexadas e têm funções built-in similares a strings e tuplas. Elas se diferem das tuplas porque são **mutáveis (valores ou tamanho)**.\n",
    "\n",
    "Aqui, iremos aprender sobre **negative indexing** e **slicing**, mas esses conceitos também podem ser aplicados a strings e tuplas. Além disso, vamos ver uma forma muito elegante de se criar listas, através do que chamamos de **List Comprehension**.\n",
    "\n",
    "#### 3.4.1. Básico"
   ]
  },
  {
   "cell_type": "code",
   "execution_count": null,
   "metadata": {
    "collapsed": true,
    "jupyter": {
     "outputs_hidden": true
    }
   },
   "outputs": [],
   "source": [
    "# Criando uma lista\n",
    "my_list = [5,1,7]\n",
    "print(my_list)\n",
    "\n",
    "# Adicionando elementos (método append)\n",
    "my_list.append(2)\n",
    "print(my_list)\n",
    "\n",
    "# Removendo elementos\n",
    "del(my_list[1])\n",
    "print(my_list)\n",
    "\n",
    "# Concatenação\n",
    "my_list = my_list + [-1, -2, -5]\n",
    "print(my_list)\n",
    "\n",
    "# in clause\n",
    "print(2 in my_list)"
   ]
  },
  {
   "cell_type": "code",
   "execution_count": null,
   "metadata": {
    "collapsed": true,
    "jupyter": {
     "outputs_hidden": true
    }
   },
   "outputs": [],
   "source": [
    "# Execute esta célula antes de continuar a aula\n",
    "my_list = [5,1,7,1,8,4,2,0,1,3]"
   ]
  },
  {
   "cell_type": "markdown",
   "metadata": {},
   "source": [
    "#### 3.4.2. Negative indexing\n",
    "Python permite fazer negative indexing, o que irá acessar os elementos da lista (ou tuplas, ou strings) partindo do último elemento para o primeiro. <br>"
   ]
  },
  {
   "cell_type": "code",
   "execution_count": null,
   "metadata": {
    "collapsed": true,
    "jupyter": {
     "outputs_hidden": true
    }
   },
   "outputs": [],
   "source": [
    "print(\"Último elemento da lista: \", my_list[-1])\n",
    "print(\"Penúltimo elemento da lista: \", my_list[-2])"
   ]
  },
  {
   "cell_type": "markdown",
   "metadata": {},
   "source": [
    "#### Exercício 3.7\n",
    "Acesse o sétimo valor da lista (i.e. o valor 2) utilizando indexação negativa."
   ]
  },
  {
   "cell_type": "code",
   "execution_count": null,
   "metadata": {
    "collapsed": true,
    "jupyter": {
     "outputs_hidden": true
    }
   },
   "outputs": [],
   "source": [
    "# Sua resposta a seguir\n"
   ]
  },
  {
   "cell_type": "markdown",
   "metadata": {},
   "source": [
    "#### 3.4.3. Slicing\n",
    "Slicing é um **conceito muito importante** e nós vamos utilizá-lo bastante a partir de agora. É muito útil quando você quer fatiar sua sequência para **extrair elementos de certo intervalo** especificado pela seguinte sintaxe: <br>\n",
    "<center>*(start index)* : *(end index)* : *(step)*</center> <br>\n",
    "onde **start index está incluído** e **end index está excluído**. Todos esses argumentos são opcionais e possuem valores default.\n",
    "\n",
    "Execute a célula seguinte e veja os resultados:"
   ]
  },
  {
   "cell_type": "code",
   "execution_count": null,
   "metadata": {
    "collapsed": true,
    "jupyter": {
     "outputs_hidden": true
    }
   },
   "outputs": [],
   "source": [
    "print(\"Lista original: \", my_list)\n",
    "\n",
    "top5 = my_list[0:5] # O step default é 1\n",
    "print(\"Primeiros 5 elementos da lista: \", top5)\n",
    "\n",
    "odd_idx = my_list[1::2] # end index default é o último\n",
    "print(\"Elementos em índices ímpares: \", odd_idx)\n",
    "\n",
    "all_elements = my_list[::] \n",
    "print(\"Todos os elementos: \", all_elements)"
   ]
  },
  {
   "cell_type": "markdown",
   "metadata": {},
   "source": [
    "#### Exercício 3.8\n",
    "Agora, tente utilizar um step negativo e cheque seus resultados!"
   ]
  },
  {
   "cell_type": "code",
   "execution_count": null,
   "metadata": {
    "collapsed": true,
    "jupyter": {
     "outputs_hidden": true
    }
   },
   "outputs": [],
   "source": [
    "# Sua resposta aqui\n"
   ]
  },
  {
   "cell_type": "markdown",
   "metadata": {},
   "source": [
    "#### Exercício 3.9\n",
    "Tente utilizar slicing com indexação negativa para pegar todos os elementos na ordem contrária da lista  ```my_list```, excluindo os elementos das pontas (i.e. 5 e 3). <br>\n",
    "Seu output deve ficar parecido com isso: ```[1, 0, 2, 4, 8, 1, 7, 1]```"
   ]
  },
  {
   "cell_type": "code",
   "execution_count": null,
   "metadata": {
    "collapsed": true,
    "jupyter": {
     "outputs_hidden": true
    }
   },
   "outputs": [],
   "source": [
    "# Your answer here\n"
   ]
  },
  {
   "cell_type": "markdown",
   "metadata": {},
   "source": [
    "#### 3.4.4. List comprehension\n",
    "Uma forma bastante útil e elefante de construir uma lista é apresentada a seguir. Pode ser muito útil quando você quer **criar uma lista a partir de uma lista já existente**. <br>\n",
    "Veja o exemplo abaixo e repare que **```range(10)```** cria uma lista de inteiros de 0 (incluído) e 10 (excluído)."
   ]
  },
  {
   "cell_type": "code",
   "execution_count": null,
   "metadata": {
    "collapsed": true,
    "jupyter": {
     "outputs_hidden": true
    }
   },
   "outputs": [],
   "source": [
    "# Para cada elemento x no intervalo [0,10), tome 2^x\n",
    "pow2 = [2**x for x in range(10)]\n",
    "print(type(pow2))\n",
    "print(pow2)"
   ]
  },
  {
   "cell_type": "markdown",
   "metadata": {},
   "source": [
    "ou **a partir de**, digamos, **um dicionário**:"
   ]
  },
  {
   "cell_type": "code",
   "execution_count": null,
   "metadata": {
    "collapsed": true,
    "jupyter": {
     "outputs_hidden": true
    }
   },
   "outputs": [],
   "source": [
    "population = {'SP': 45538936, 'RJ': 17159960, 'MG': 21040662, 'BA': 14812617}\n",
    "\n",
    "pop_list = [population[key] for key in population.keys()]\n",
    "print(pop_list)"
   ]
  },
  {
   "cell_type": "markdown",
   "metadata": {},
   "source": [
    "Existe também, o que chamamos de **dictionary comprehension**. Veja o exemplo a seguir."
   ]
  },
  {
   "cell_type": "code",
   "execution_count": null,
   "metadata": {
    "collapsed": true,
    "jupyter": {
     "outputs_hidden": true
    }
   },
   "outputs": [],
   "source": [
    "# Para cada elemento x no intervalo [0,10), tome a x associada ao valor 2^x\n",
    "pow2_dict = {x: 2**x for x in range(10)}\n",
    "pow2_dict"
   ]
  },
  {
   "cell_type": "markdown",
   "metadata": {},
   "source": [
    "Muito massa, né!?"
   ]
  },
  {
   "cell_type": "markdown",
   "metadata": {},
   "source": [
    "<a name=\"funpac\"></a>\n",
    "## 4. Funções\n",
    "\n",
    "### 4.1. O que é uma função?\n",
    "Uma função é um pedaço reutilizável de código com o objetivo de resolver uma tarefa específica. Podemos pensar em uma função como se fosse uma caixinha preta que recebe um input, faz alguma coisa com isso e retorna um output.\n",
    "\n",
    "No começo dessa aula, foi dito a você que \"print\" é uma função. Voĉe também já utilizou várias outras funções até aqui. Vamos recapitular algumas dessas funções e explicitar seus inputs e outputs:\n",
    "\n",
    "- print, recebe uma lista de strings, escreve todas elas como output e retorna None\n",
    "- type, recebe um objeto e retorna o tipo deste objeto\n",
    "- str, recebe um objeto e retorna a versão string dele\n",
    "\n",
    "Através desses exemplos, podemos observar que os diferentes inputs e outputs das funções (chamados de *arguments* e *returns*) possuem diferentes números e tipos.\n",
    "\n",
    "No código a seguir, introduzimos novas funções: max, round e help. Tente entender o uso dessas funções olhando o código e os outputs dados por elas.\n"
   ]
  },
  {
   "cell_type": "code",
   "execution_count": null,
   "metadata": {
    "collapsed": true,
    "jupyter": {
     "outputs_hidden": true
    }
   },
   "outputs": [],
   "source": [
    "ages = [22, 29, 26, 32, 26]\n",
    "oldest = max(ages)\n",
    "print(\"A idade máxima é:\", oldest)\n",
    "\n",
    "decimal_number = 1.57365167\n",
    "print(\"Primeiro arredondamento:\", round(decimal_number, 3))\n",
    "print(\"Segundo arredondamento:\", round(decimal_number))\n",
    "\n",
    "help(max)\n",
    "help(round)"
   ]
  },
  {
   "cell_type": "markdown",
   "metadata": {},
   "source": [
    "Aposto que você conseguiu entender o funcionamento dessas funções!\n",
    "\n",
    "- Max retorna o maior item de um iterável (por agora, entenda isso como uma lista).\n",
    "- Round retornar o número passado arredondado por um certo número de casas decimais. Você percebiu que omitimos o número de casas decimais no segundo caso? Se você olhar o help para a função round, você perceberá que o valor default do argumento ndigits é None ('ndigits=None'). Isso significa que se você não passar explicitamente um valor para este argumento, a função irá perfomar como se você não quisesse arredondar para nenhuma casa decimal,\n",
    "- Help te dá informação de uma dada função.\n",
    "\n",
    "#### Exercício 4.1\n",
    "Use a célula abaixo para ver o help das funções 'pow' e 'open'. Tente entender o que faz cada função, quais são seus argumentos e quais são os valores default para esses argumentos. Não é necessário escrever nenhuma reposta para este exercício."
   ]
  },
  {
   "cell_type": "code",
   "execution_count": null,
   "metadata": {
    "collapsed": true,
    "jupyter": {
     "outputs_hidden": true
    }
   },
   "outputs": [],
   "source": [
    "help(pow)\n",
    "help(open)"
   ]
  },
  {
   "cell_type": "markdown",
   "metadata": {},
   "source": [
    "### 4.2. Métodos\n",
    "\n",
    "Métodos são funções que pertencem a um objeto Python. Você deve estar se perguntando 'O que é um objeto Python?'. Por agora, tudo que você precisa saber é que no Python, quase tudo é um objeto. Cada objeto pode ter um nome, um tipo, um valor, algumas proprierdades e alguns métodos. Nós não vamos nos desbravar neste tópico, mas você pode aprender mais, caso queira explorar o assunto, nesses dois vídeos ([part 1](https://www.youtube.com/watch?v=wfcWRAxRVBA) and [part 2](https://www.youtube.com/watch?v=WOwi0h_-dfA)).\n",
    "\n",
    "Agora, iremos focar na utilização dos métodos. Você já viu alguns métodos na última seção, como *capitalize* e *split* para strings e *append* para listas. Veja estes outros métodos para listas na célula a seguir."
   ]
  },
  {
   "cell_type": "code",
   "execution_count": null,
   "metadata": {
    "collapsed": true,
    "jupyter": {
     "outputs_hidden": true
    }
   },
   "outputs": [],
   "source": [
    "print(\"Index:\", ages.index(29)) # método 'index' retorna o índice da lista referente ao objeto passado\n",
    "print(\"Quantidade:\", ages.count(26)) # método 'count' retorna a quantidade de vezes que o objeto passado aparece na lista"
   ]
  },
  {
   "cell_type": "markdown",
   "metadata": {},
   "source": [
    "Como podemos ver, métodos são chamados com um ponto seguido pelo nome do método e os argumentos são passados dentro de parenteses, após o objeto.\n",
    "\n",
    "Diferentes tipos de objetos estão associados com diferentés métodos. Vamos ver alguns métodos para strins e ver o que acontecer quando tentamos utilizá-los em listas."
   ]
  },
  {
   "cell_type": "code",
   "execution_count": null,
   "metadata": {
    "collapsed": true,
    "jupyter": {
     "outputs_hidden": true
    }
   },
   "outputs": [],
   "source": [
    "country = \"brazil\"\n",
    "\n",
    "print(\"Capitalize:\", country.capitalize())\n",
    "print(\"Replace:\", country.replace(\"z\", \"s\"))\n",
    "print(\"Index:\", country.index(\"i\"))\n",
    "\n",
    "print(ages.capitalize())"
   ]
  },
  {
   "cell_type": "markdown",
   "metadata": {},
   "source": [
    "Como visto anteriormente, *capitalize* retorna uma cópia da string que está sendo chamada, onde a primeira letra da string é maiúscula e todas as outras são minúsculas.\n",
    "*Replace* retorna uma cópia da string que está sendo chamada com todas as ocorrências da primeira string passada subsituídas pela segunda string passada.\n",
    "*Index* funciona da mesma forma como vimos para listas.\n",
    "\n",
    "Mas tome cuidado! Isso não significa que todos os métodos possam ser aplicados para todos objetos. Veja como podemos obter um erro quando tentamos utilizar *capitalize* no objeto ```ages```.\n",
    "\n",
    "Tome cuidado \\[2\\]! Alguns métodos podem mudar o objeto chamado. Veja os métodos append e reverse usados na lista ```ages``` abaixo."
   ]
  },
  {
   "cell_type": "code",
   "execution_count": null,
   "metadata": {
    "collapsed": true,
    "jupyter": {
     "outputs_hidden": true
    }
   },
   "outputs": [],
   "source": [
    "print(\"ages\", ages)\n",
    "\n",
    "ages.append(23)\n",
    "print(\"Appended ages\", ages)\n",
    "\n",
    "ages.reverse()\n",
    "print(\"Reversed ages\", ages)\n",
    "\n",
    "help(list.append)"
   ]
  },
  {
   "cell_type": "markdown",
   "metadata": {},
   "source": [
    "Como visto, 'append' adiciona outro elemento ao final da lista, enquanto 'reverse' inverte a ordem de seus elementos. Você também pode usar o comando \"help\" para um método, para isso, você apenas precisa incluir o tipo e o ponto antes do metódo, como por exemplo, help(type.method).\n",
    "\n",
    "#### Exercício 4.2\n",
    "Qual é o resultado do código seguinte? Tente adivinhá-lo. Utilize a célula a seguir para te ajudar, não para obter a resposta.\n",
    "\n",
    "ex_list = \\[9, 2, 5, 0, 2\\] <br>\n",
    "ex_list.sort() <br>\n",
    "ex_list.append(7) <br>\n",
    "ex_list.reverse() <br>\n",
    "ex_list.remove(2) <br>\n",
    "print(ex_list) <br>"
   ]
  },
  {
   "cell_type": "code",
   "execution_count": null,
   "metadata": {
    "collapsed": true,
    "jupyter": {
     "outputs_hidden": true
    }
   },
   "outputs": [],
   "source": [
    "# Utilize esta célula para testar os métodos (sem aplicá-lo ao mesmo objeto do exercício)"
   ]
  },
  {
   "cell_type": "markdown",
   "metadata": {},
   "source": [
    "**Resposta:** Sua resposta aqui"
   ]
  },
  {
   "cell_type": "markdown",
   "metadata": {},
   "source": [
    "### 4.3. Pacotes (Packages)\n",
    "\n",
    "Um package é um diretório de scripts Python, também chamados de modules, com um objetivo em comum. Isso significa que cada script é um módulo que define funções, métodos e tipos. E esse módulos estão organizados em packages.\n",
    "\n",
    "Quando você inicializa o Python, apenas o package built-in é carregado. Para usar qualquer função, método ou objeto definido em outro módulo, você deve, primeiramente, importá-lo.\n",
    "\n",
    "Vamos tentar fazer isso com NumPy, um pacote que lida eficientemente com arrays, que você certamente utilizará bastante em sua vida com o Python."
   ]
  },
  {
   "cell_type": "code",
   "execution_count": null,
   "metadata": {
    "collapsed": true,
    "jupyter": {
     "outputs_hidden": true
    }
   },
   "outputs": [],
   "source": [
    "# Primeiramente, o que você acha que aconteceria se tentássemos utilizar algumas coisa de um pacote que ainda não foi carregado?\n",
    "# Nós podemos testar isso com a função array, do módulo numpy, que retorna um array para uma lista dada\n",
    "array([1, 2, 3])"
   ]
  },
  {
   "cell_type": "markdown",
   "metadata": {},
   "source": [
    "Como esperado, tivemos um erro. Nós deveríamos carregar o pacote, então.\n",
    "Para fazer isso, utilizamos a keyword 'import' seguida do nome do package."
   ]
  },
  {
   "cell_type": "code",
   "execution_count": null,
   "metadata": {
    "collapsed": true,
    "jupyter": {
     "outputs_hidden": true
    }
   },
   "outputs": [],
   "source": [
    "import numpy\n",
    "numpy.array([1, 2, 3])"
   ]
  },
  {
   "cell_type": "markdown",
   "metadata": {},
   "source": [
    "Repare como precisamos especificar qual é o pacote ao qual a função ```array``` pertence. Poderia ficar muito chato se você tivesse que digitar os nomes dos pacotes todas as vezes que quisesse utilizar alguma coisa deles.\n",
    "\n",
    "Para te ajudar com isso, o Python permite que você utilize um alias para o nome do pacote, através da keyword 'as', tornando seu uso um pouco mais prático, como mostrado a seguir."
   ]
  },
  {
   "cell_type": "code",
   "execution_count": null,
   "metadata": {
    "collapsed": true,
    "jupyter": {
     "outputs_hidden": true
    }
   },
   "outputs": [],
   "source": [
    "import numpy as np\n",
    "np.array([1, 2, 3])"
   ]
  },
  {
   "cell_type": "markdown",
   "metadata": {},
   "source": [
    "Por último, é possível carregar apenas uma parte de um pacote com a expressão  ```from ... import ...```. Fazendo isso, você estará permitido a utilizar apenas a parte que você carregou do pacote, sem a necessidade de especificar o nome do pacote posteriormente. Veja."
   ]
  },
  {
   "cell_type": "code",
   "execution_count": null,
   "metadata": {
    "collapsed": true,
    "jupyter": {
     "outputs_hidden": true
    }
   },
   "outputs": [],
   "source": [
    "from numpy import array\n",
    "array([1, 2, 3])"
   ]
  },
  {
   "cell_type": "markdown",
   "metadata": {},
   "source": [
    "#### Exercício 4.3\n",
    "Complete o import statement no código abaixo para que ele funcione corretamente."
   ]
  },
  {
   "cell_type": "code",
   "execution_count": null,
   "metadata": {
    "collapsed": true,
    "jupyter": {
     "outputs_hidden": true
    }
   },
   "outputs": [],
   "source": [
    "import math as __\n",
    "print(mt.exp(3))\n",
    "\n",
    "from math import __\n",
    "print(pi)"
   ]
  },
  {
   "cell_type": "markdown",
   "metadata": {},
   "source": [
    "### 4.4. User-defined Functions\n",
    "\n",
    "Ok, então nós já sabemos como utilizar funções built-in e até mesmo importar pacotes para usar mais funções! Mas e se não existir uma função implementada para o que você quer fazer? Aí entram as user-defined functions!\n",
    "\n",
    "Python permite que você escreva suas próprias funções e as use da mesma forma que você usa as funções built-in. A definição dessas funções começa com a keyword 'def' e é seguida pelo da função definida, com seus parâmetros dentro de parenteses separados por vírgulas, formando o que chamamos de cabeçalho da função. Depois disso, vem o corpo da função com o código que faz o que nós queremos fazer com ela, possivelmente terminando com a keyword 'return' para retornar o resultado dela.\n",
    "\n",
    "Vamos ver na prática escrevendo uma função que eleva um número ao quadrado."
   ]
  },
  {
   "cell_type": "code",
   "execution_count": null,
   "metadata": {
    "collapsed": true,
    "jupyter": {
     "outputs_hidden": true
    }
   },
   "outputs": [],
   "source": [
    "def square(value):            # cabeçalho da função com a keyword 'def', o nome da função 'square' e o parâmetro 'value' \n",
    "    new_value = value ** 2    # bloco de código (corpo) da função\n",
    "    print(new_value)\n",
    "    \n",
    "square(3)                     # função sendo chamada - tente mudar o número passado como argumento para ver que isso realmente funciona\n",
    "square(4)\n",
    "square(5)"
   ]
  },
  {
   "cell_type": "markdown",
   "metadata": {},
   "source": [
    "Então, temos uma função que printa o quadrado de um valor.\n",
    "\n",
    "E se nós precisarmos salvar esse valor ao quadrado? Neste caso, precisamos utilizar a keyword 'return'. Vamos adaptar nossa função para fazer isso."
   ]
  },
  {
   "cell_type": "code",
   "execution_count": null,
   "metadata": {
    "collapsed": true,
    "jupyter": {
     "outputs_hidden": true
    }
   },
   "outputs": [],
   "source": [
    "def square(value):            # cabeçalho da função com a keyword 'def', o nome da função 'square' e o parâmetro 'value' \n",
    "    new_value = value ** 2    # bloco de código (corpo) da função\n",
    "    return(new_value)         # return statement para retornar o resultado o caller\n",
    "    \n",
    "squared_num = square(4)       # função sendo chamada e atribuindo o resultado à variável squared_num\n",
    "print(squared_num)\n",
    "squared_num2 = square(5)\n",
    "print(squared_num2)"
   ]
  },
  {
   "cell_type": "markdown",
   "metadata": {},
   "source": [
    "Uau, essa foi rápida! Você já sabe como definir suas funções mais simples!\n",
    "\n",
    "Existem mais duas coisas que precisamos saber antes de ir para funções mais complexas: docstrings e default arguments.\n",
    "\n",
    "Docstrings descreve o que a função faz e serve como documentação desta. Elas são colocadas bem abaixo do cabeçalho da função dentro de aspas triplas.\n",
    "\n",
    "Default arguments são aqueles parâmetros que possuem um valor default, que será usado caso não seja preenchido quando a função é chamada. Nós já falamos deles quando discutimos sobre a função round nas seções passadas.\n",
    "\n",
    "Vamos, agora, escrever outra função, raise_to_power, que retorna o resultado do primeiro valor passado elevado ao segundo valor passado. E, claro, iremos adicionar a docstring e um valor default de 2 para o segundo parâmetro. Para finalizar, utilizaremos a função help para ver o resultado."
   ]
  },
  {
   "cell_type": "code",
   "execution_count": null,
   "metadata": {
    "collapsed": true,
    "jupyter": {
     "outputs_hidden": true
    }
   },
   "outputs": [],
   "source": [
    "def raise_to_power(value1, value2=2):             # cabeçalho da função com o valor default de 2 para o segundo parâmetro\n",
    "    \"\"\"Raise value1 to the power of value2.\"\"\"    # docstring\n",
    "    new_value = value1 ** value2                  # corpo da função\n",
    "    return new_value                              # return statement\n",
    "\n",
    "two_cubed = raise_to_power(2, 3)                  # chamada da função\n",
    "print(\"Result 1:\", two_cubed)                     # print do resultado\n",
    "\n",
    "two_squared = raise_to_power(2)                   # chamada da função\n",
    "print(\"Result 2:\", two_squared)                   # print do resultado\n",
    "\n",
    "help(raise_to_power)                              # Help da função. Repare na docstring!"
   ]
  },
  {
   "cell_type": "markdown",
   "metadata": {},
   "source": [
    "Viu como funciona? A função help mostra exatamente a docstring que escrevemos na função. Isso é muito útil na documentação dos pacotes que utilizaremos. Uma das grandes vantagens do Python, como já dissemos, é sua incrível comunidade colaborando todo dia com milhares de funções que facilitam nossas vidas. Imagine se essas funções não fossem bem documentadas? Não haveria utilidade!!! **Não subestime a importância da documentação e uso da docstring**.\n",
    "\n",
    "#### Exercício 4.4\n",
    "Substitua o \\____ para escrever uma função na célula abaixo que faça o print retornar \"True\"."
   ]
  },
  {
   "cell_type": "code",
   "execution_count": null,
   "metadata": {
    "collapsed": true,
    "jupyter": {
     "outputs_hidden": true
    }
   },
   "outputs": [],
   "source": [
    "def shout(string, n_times=1):\n",
    "    \"\"\"Add an exclamation to a string and repeats it n_times\"\"\"\n",
    "    upper = ____.upper()\n",
    "    upper_exclamation = ____ + \"!!!\"\n",
    "    repeated_upper_exclamation = upper_exclamation * ____\n",
    "    return repeated_upper_exclamation\n",
    "\n",
    "print(shout(\"i did it\") == \"I DID IT!!!\")\n",
    "print(shout(\"i did it\", 3) == \"I DID IT!!!I DID IT!!!I DID IT!!!\")"
   ]
  },
  {
   "cell_type": "markdown",
   "metadata": {},
   "source": [
    "### 4.5. Lambda functions\n",
    "\n",
    "A última coisa que trataremos sobre funções são as funções Lambda. Esta é apenas uma outra forma de definir funções, porém isso é feito de uma forma bem rápida e concisa. Existe, contudo, o contraponto de se utilizar Lambda functions, pois seu código pode ficar mais feio e difícil de se compreender, então, use com moderação.\n",
    "\n",
    "Lambda functions são definidas com a keyword 'lambda' (de onde se deriva o nome), seguida pela lista de argumanto, uma vírgula e o código que deve ser executado.\n",
    "\n",
    "Vamos redefinir nossa função raise_to_power usando lambda."
   ]
  },
  {
   "cell_type": "code",
   "execution_count": null,
   "metadata": {
    "collapsed": true,
    "jupyter": {
     "outputs_hidden": true
    }
   },
   "outputs": [],
   "source": [
    "raise_to_power = lambda x, y=2: x ** y\n",
    "\n",
    "print(raise_to_power(3, 2))\n",
    "print(raise_to_power(2))"
   ]
  },
  {
   "cell_type": "markdown",
   "metadata": {},
   "source": [
    "Veja a nova definição da função raise_to_power. Muito menor, né? E nós também podemos adicionar valores default para seus argumentos, da mesma forma que fizemos anteriormente.\n",
    "\n",
    "Uma ótima aplicação de lambda functions é quando nós precisamos passar uma função como um argumento para outras funções. Existem 3 funções como essa que são bem utilizadas em Data Science:\n",
    "\n",
    "- Map: recebe uma função e uma lista, e aplica a função a todos elementos da lista/\n",
    "- Filter: recebe uma função e uma lista, e retorna apenas os elementos para os quais a função recebida retorna True;\n",
    "- Reduce: recebe uma função e uma lista, aplica a função nos primeiros dois elementos da lista, então aplica a função ao próximo elemento utilizando o resultado anterior, assim por diante, até o fim da lista.\n",
    "\n",
    "Vamos ver alguns exemplos para entender melhor!"
   ]
  },
  {
   "cell_type": "code",
   "execution_count": null,
   "metadata": {
    "collapsed": true,
    "jupyter": {
     "outputs_hidden": true
    }
   },
   "outputs": [],
   "source": [
    "# Define a lista\n",
    "small_list = [1, 2, 3, 4]\n",
    "\n",
    "# Usa map para elevar todos os elementos da lista ao quadrado\n",
    "squared_all = map((lambda x: x ** 2), small_list)\n",
    "print(\"map object:\", squared_all)\n",
    "print(\"squared_all:\", list(squared_all))\n",
    "\n",
    "# Usa filter para pegar apenas os números ímpares\n",
    "odd_only = filter((lambda x: x % 2 == 0), small_list)\n",
    "print(\"filter object:\", odd_only)\n",
    "print(\"odd_only:\", list(odd_only))\n",
    "\n",
    "# Usa reduce para multiplicar todos os elementos da lista\n",
    "from functools import reduce\n",
    "mult_all = reduce((lambda x, y: x * y), small_list)\n",
    "print(\"mult_all:\", mult_all)"
   ]
  },
  {
   "cell_type": "markdown",
   "metadata": {},
   "source": [
    "É realmente muito conciso fazer tudo isso com lambda e map/filter/reduce, né?\n",
    "\n",
    "Algumas coisas interessantes de observar:\n",
    "\n",
    "- map e filter retornam um objeto com seu tipo próprio, então, é necessário passar pela função list() para usá-los como uma lista.\n",
    "- reduce é uma função do package functools, então é necessário importá-la antes de utilizá-la.\n",
    "\n",
    "#### Exercício 4.5\n",
    "Preencha os campos \\____ ao seguir as instruções na célula abaixo."
   ]
  },
  {
   "cell_type": "code",
   "execution_count": null,
   "metadata": {
    "collapsed": true,
    "jupyter": {
     "outputs_hidden": true
    }
   },
   "outputs": [],
   "source": [
    "# lista de pesos em libras dos jogadores do Golden State Warriors\n",
    "weights = [224, 260, 179, 270, 190, 249, 240, 210, 230, 215, 231, 245, 210, 192, 220, 215, 215]\n",
    "\n",
    "# Primeiramente, importamos os pacotes necessários\n",
    "from functools import reduce\n",
    "\n",
    "# Você precisa normalizar os pesos, i.e., fazer todos os pesos irem de 0 até 1 de acordo com max e min\n",
    "# Então, você precisa calcular max and min\n",
    "max_weight = max(___)\n",
    "min_weight = min(___)\n",
    "print(\"max_weight:\", ___)\n",
    "print(\"min_weight:\", ___)\n",
    "\n",
    "# Nosso peso normalizado deveria ser: normalized_weight = (weight - min) / (max - min)\n",
    "# Use map com uma lambda function para normalizar todos os pesos da lista\n",
    "# Lembre-se que map não retorna uma lista, então você deve transformar o output em uma lista\n",
    "normalized_weights = map((lambda x: (x-min_weight)/(___-min_weight)), ___)\n",
    "normalized_weights_list = list(___)\n",
    "\n",
    "# Você precisa, agora, filtrar apenas os valores normalizados maiores que a média\n",
    "# Para fazer isso, você precisa calcular a média\n",
    "avg_normalized_weight = sum(normalized_weights_list)/len(normalized_weights_list)\n",
    "print(\"avg_normalized_weight:\", ___)\n",
    "\n",
    "# Então, use filter com outra lambda function para pegar apenas os valores acima da média\n",
    "# Mais uma vez, filter não retorna uma lista. Você precisa fazer o cast (transformação)\n",
    "above_avg_weights = filter((lambda x: x > ___), normalized_weights_list)\n",
    "above_avg_weights_list = list(___)\n",
    "\n",
    "# Para finalizar, você quer a coma de normalized_weights acima da média, mas você quer fazer isso utilizando reduce com uma lambda function\n",
    "above_avg_sum = reduce(lambda x, y: x + y, ___)\n",
    "\n",
    "# Printe o resultado\n",
    "print(\"above_avg_sum:\", above_avg_sum)"
   ]
  },
  {
   "cell_type": "markdown",
   "metadata": {},
   "source": [
    "Isso é tudo sobre funções! Num primeiro momento, pode parecer bastante informação, de fato, mas com um pouco de prática você pode aprender isso de maneira rápida! Vamos, agora, acompanhar uma seção sobre um dos pacotes mais utilizados para análise de dados em Python: o Pandas!"
   ]
  },
  {
   "cell_type": "markdown",
   "metadata": {},
   "source": [
    "<a name=\"pandas\"></a>\n",
    "## 5. Pacote Pandas\n",
    "\n",
    "### 5.1 O que é o Pandas?\n",
    "\n",
    "Esses são pandas! Tãããããão fofinhos!\n",
    "\n",
    "![Giant Pandas](https://institute.sandiegozoo.org/sites/default/files/heros-giant-panda.jpg)\n",
    "\n",
    "Mas não, não estamos falando deles!\n",
    "\n",
    "Pandas é uma biblioteca *open source*, que proporciona estruturas de dados e ferramentas de análise de dados de alta performânce e fáceis de usar para Python. Vamos entender melhor o que alguns termos significam:\n",
    " - *open source*: software cujo código original é disponibilizado livremente e pode ser distribuido e modificado. Isso significa que qualquer um pode contribuir para a evolução do Pandas!\n",
    " - alta performânce: Pandas é escrito em Python, Cython e C. Isso permite que os cientistas de dados consigam o utilizar para lidar com conjuntos de dados muito grandes (daqueles que o excel não conseguiria nem abrir) e fazer operações sobre esses dados com facilidade. Dessa forma, Pandas torna nosso trabalho melhor e mais fácil provendo ótima performânce.\n",
    " - estruturas de dados e análises de dados: o motivo pelo qual Pandas existe. Muitas vezes precisamos obter algo com significado de dados crus como documentos de textos, tabelas e etc. Pandas é capaz de lidar com esses tipos de dados para que possamos analisá-los.\n",
    "Em resumo, **Pandas fornece estrutura de dados especializadas e ferramentas para manipulação de dados**. Sua ótima performânce, facilidade de uso e comunidade dedicada são as principais razões de sua vasta adoção entre cientistas de dados. Vamos utilizá-lo!\n",
    "Se você está utilizando o Anaconda, já deve ter ele instalado. Senão, é possível achar os passos de intalação [neste link](https://pandas.pydata.org/). <br>\n",
    "\n",
    "\n",
    "### 5.2 Começando com Pandas\n",
    "\n",
    "#### 5.2.1 Como importá-lo\n",
    "\n",
    "Por algum motivo, todo mundo importa o Pandas da mesma forma, como mostramos abaixo. Aproveitamos também para importar o Numpy, outra biblioteca muito utilizada mas que não será abordada em detalhes nessa aula."
   ]
  },
  {
   "cell_type": "code",
   "execution_count": null,
   "metadata": {
    "collapsed": true,
    "jupyter": {
     "outputs_hidden": true
    }
   },
   "outputs": [],
   "source": [
    "import pandas as pd\n",
    "import numpy as np"
   ]
  },
  {
   "cell_type": "markdown",
   "metadata": {},
   "source": [
    "#### 5.2.2 Objetos do Pandas\n",
    "\n",
    "Existem 2 principais tipos de objetos no Pandas: as [*Series*](https://pandas.pydata.org/pandas-docs/stable/reference/api/pandas.Series.html#pandas.Series) e os *DataFrames*. As *Series* são sequências de uma dimensão  de elementos (pra ser mais específicos *ndarray*), todos do mesmo tipo de dados, com rótulos/índices (*labels*). São o objeto primário do Pandas, tudo vai funcionar baseado nelas. Pra criar um objeto do tipo *Series*, podemos fazer o seguinte:"
   ]
  },
  {
   "cell_type": "code",
   "execution_count": null,
   "metadata": {
    "collapsed": true,
    "jupyter": {
     "outputs_hidden": true
    }
   },
   "outputs": [],
   "source": [
    "s = pd.Series([1, 3, 5, np.nan, 6, 8])\n",
    "s"
   ]
  },
  {
   "cell_type": "markdown",
   "metadata": {},
   "source": [
    "Podemos ver acima que cada elemento da *Series* tem um rótulo relacionado. Esses rótulos podem ser tanto numéricos quanto de texto! Ao final do objeto temos a informação sobre o tipo de dados da *Series*: nesse caso, números *float64*. <br>\n",
    "O outro objeto principal do Pandas é o [*DataFrame*](https://pandas.pydata.org/pandas-docs/stable/reference/api/pandas.DataFrame.html#pandas.DataFrame), que é basicamente uma coleção de *Series* com rótulos em comum. O *DataFrame* é bem parecido com uma tabela de Excel, com seus índices e colunas. Tanto suas linhas quanto suas colunas tem rótulos, nos permitindo acessar qualquer célula pela sua coordenada. Há diversas formas de criar um *DataFrame*, vamos começar com o mais simples:"
   ]
  },
  {
   "cell_type": "code",
   "execution_count": null,
   "metadata": {
    "collapsed": true,
    "jupyter": {
     "outputs_hidden": true
    }
   },
   "outputs": [],
   "source": [
    "dates = pd.date_range('20130101', periods=6) #estamos criando uma lista de datas entre 01/01/2013 e 06/01/2013. Note que estamos usando uma função do Pandas\n",
    "df = pd.DataFrame(\n",
    "    np.random.randn(6, 4), #apenas números aleatórios nas células\n",
    "    index=dates,  #especificando quais são os índices. Eles aceitam até datas como índice! Isso é muito bom para lidar com dados seriados no tempo\n",
    "    columns=list('ABCD')) #especificando como quero que sejam os nomes das colunas passando uma lista de letras\n",
    "df"
   ]
  },
  {
   "cell_type": "markdown",
   "metadata": {},
   "source": [
    "Isso é um *DataFrame*! Uma coisa boa do Pandas com o Jupyter Notebook é que eles mostram o *DataFrame* de uma forma bastante amigável. Agora que sabemos sobre as duas principais estruturas de dados do Pandas, podemos aprender sobre os principais métodos e funcionalidades dessa biblioteca, e para isso vamos utilizar dados reais sobre um das marcas mais conhecidas dos desenhos e videogames :)\n",
    "\n",
    "Observação: um *DataFrame* pode ser visto como um dicionário de listas.\n",
    "\n",
    "#### 5.2.3 Carregando o conjunto de dados\n",
    "\n",
    "Um dos tipos de dados mais comuns para se guardar arquivos são os CSVs. O Pandas tem diversas funções para trnasformar os mais variados tipos de arquivos em *DataFrames*, como csv, excel, json e etc. Nesse exemplo, vamos usar o [leitor de csv](https://pandas.pydata.org/pandas-docs/stable/reference/api/pandas.read_csv.html)."
   ]
  },
  {
   "cell_type": "code",
   "execution_count": null,
   "metadata": {
    "collapsed": true,
    "jupyter": {
     "outputs_hidden": true
    }
   },
   "outputs": [],
   "source": [
    "pkmn = pd.read_csv(\n",
    "    './data/01_aulas_pokemon.csv', #o caminho para o arquivo que se quer ler\n",
    "    sep=',') #o caracter utilizado para separar os valores"
   ]
  },
  {
   "cell_type": "markdown",
   "metadata": {},
   "source": [
    "#### 5.2.4 Visualizações iniciais\n",
    "Ótimo! Acabamos de criar um *DataFrame* a partir de um arquivo csv. Mas como gostamos de verificar as coisas, seria interessante saber algumas coisas como o que os dados contêm, como é, se tem valores nulos e etc. O Pandas tem 4 métodos principais para isso:"
   ]
  },
  {
   "cell_type": "code",
   "execution_count": null,
   "metadata": {
    "collapsed": true,
    "jupyter": {
     "outputs_hidden": true
    }
   },
   "outputs": [],
   "source": [
    "pkmn.info()"
   ]
  },
  {
   "cell_type": "markdown",
   "metadata": {},
   "source": [
    "A primeira coisa que gosto de fazer após ler um conjunto de dados em um *DataFrame* é utilizar o método *info()*. Ele mostra informações como:\n",
    " - a classe do objeto criado\n",
    " - o intervalo do índice e quantas linhas de dados se tem\n",
    " - as colunas, seus nomes e tipos de dado\n",
    " - quais os tipos de dados presentes no *DataFrame* e quantas colunas de cada\n",
    " - a quantidade de memória utilizada pelo computador para guardar esses dados\n",
    "\n",
    "Podemos ver que temos uma base sobre Pokémon, com 800 linhas com índices númericos de 0 a 799, 13 colunas de três tipos de dados diferentes, usando cerca de ~76kB de memória RAM. As informações presentes sobre os Pokémons são o número, o nome, o tipo (alguns tem subtipo, mas não todos, por isso dos dados faltantes na coluna *Type 2*), estatísticas de ataque, defesa e velocidade, a geração e a indicação se ele é lendário (como uma espécie mística). <br> Todas essas informações a gente conseguiu descobrir com apenas uma linha de código! Vamos então ver como o *DataFrame* realmente é. Temos dois métodos para isso:"
   ]
  },
  {
   "cell_type": "code",
   "execution_count": null,
   "metadata": {
    "collapsed": true,
    "jupyter": {
     "outputs_hidden": true
    }
   },
   "outputs": [],
   "source": [
    "pkmn.head()"
   ]
  },
  {
   "cell_type": "code",
   "execution_count": null,
   "metadata": {
    "collapsed": true,
    "jupyter": {
     "outputs_hidden": true
    }
   },
   "outputs": [],
   "source": [
    "pkmn.tail()"
   ]
  },
  {
   "cell_type": "markdown",
   "metadata": {},
   "source": [
    "O método *.head()* e *.tail()* mostram, respectivamente, as primeiras e últimas n linhas do *DataFrame* (por padrão, n=5, mas você pode passar qualquer número como parâmetro) mostrando os índices e os nomes das colunas como numa tabela."
   ]
  },
  {
   "cell_type": "code",
   "execution_count": null,
   "metadata": {
    "collapsed": true,
    "jupyter": {
     "outputs_hidden": true
    }
   },
   "outputs": [],
   "source": [
    "pkmn.describe()"
   ]
  },
  {
   "cell_type": "markdown",
   "metadata": {},
   "source": [
    "Por fim, o método *.describe()* mostra um resumo estatístico de todas as colunas numéricas. É um método bom para ter uma ideia inicial sobre o que ocorre nas colunas de uma perspectiva estatística.\n",
    "\n",
    "#### Exercício 5.1\n",
    "Use o arquivo de jogadores do FIFA Ultimate Team para os exercícios de Pandas. Caso você não conheça, o Ultimate Team (FUT) é um modo de jogo do FIFA onde você monta seu próprio time comprando jogadores do jogo. <br>\n",
    "Substitua os \\____ abaixo para ler o arquivo e siga as instruções para ter as visualizações iniciais."
   ]
  },
  {
   "cell_type": "code",
   "execution_count": null,
   "metadata": {
    "collapsed": true,
    "jupyter": {
     "outputs_hidden": true
    }
   },
   "outputs": [],
   "source": [
    "# leia o arquivo (tente abrir num editor de texto antes para verificar o separador)\n",
    "fut_players = pd.read_csv(____, sep=____)\n",
    "\n",
    "# mostre as primeiras 10 linhas de dadoa\n",
    "fut_players.____"
   ]
  },
  {
   "cell_type": "code",
   "execution_count": null,
   "metadata": {
    "collapsed": true,
    "jupyter": {
     "outputs_hidden": true
    }
   },
   "outputs": [],
   "source": [
    "# mostre as últimas 10 linhas de dados\n",
    "fut_players.____"
   ]
  },
  {
   "cell_type": "code",
   "execution_count": null,
   "metadata": {
    "collapsed": true,
    "jupyter": {
     "outputs_hidden": true
    }
   },
   "outputs": [],
   "source": [
    "# use o método .info() no DataFrame\n",
    "fut_players.____"
   ]
  },
  {
   "cell_type": "code",
   "execution_count": null,
   "metadata": {
    "collapsed": true,
    "jupyter": {
     "outputs_hidden": true
    }
   },
   "outputs": [],
   "source": [
    "# mostre o resumo estatístico das colunas numericas\n",
    "fut_players.____"
   ]
  },
  {
   "cell_type": "markdown",
   "metadata": {},
   "source": [
    "### 5.3 Filtrando (*Filtering*) e fatiando (*slicing*) os dados\n",
    "\n",
    "*Filtering* e *slicing* são técnicas utilizadas para isolar partes específicas do *DataFrame*, sejam linhas, colunas ou células. Isso é muito útil pois diversas vezes queremos analisar alguns dados ao invés da base inteira. O Pandas tem ferramentas próprias para isso. <br>\n",
    "\n",
    "#### 5.3.1 *Slicing*\n",
    "\n",
    "No Pandas existem duas principais formas de fatiar os dados, isto é, selecionar apenas uma parte de acordo com as linhas e colunas do *DataFrame*: utilizando o nome das partes ou com os métodos *.loc()* e *.iloc()*. Vamos começar pelo primeiro. Para fazer isso, imagine que queremos apenas os nomes e o poder de ataque dos Pokémons e veja o exemplo:"
   ]
  },
  {
   "cell_type": "code",
   "execution_count": null,
   "metadata": {
    "collapsed": true,
    "jupyter": {
     "outputs_hidden": true
    }
   },
   "outputs": [],
   "source": [
    "pkmn[['Name','Attack']].head(7)"
   ]
  },
  {
   "cell_type": "markdown",
   "metadata": {},
   "source": [
    "Duas coisas importantes aqui:\n",
    " - Juntamos o *slicing* com o método *.head()* na mesma linha, para que fosse possível ver o resultado do fatiamento. Ao usar o Pandas é possível e comum fazer esse tipo de agrupamento de operações.\n",
    " - Foram utilizadas chaves duplas [[]] no fatiamento. Ao fazer isso, estou explicitando que quero um objeto do tipo *DataFrame*. Se eu quisesse objetos do tipo *Series* usaria chaves simples. Podemos ver um exemplo disso abaixo:"
   ]
  },
  {
   "cell_type": "code",
   "execution_count": null,
   "metadata": {
    "collapsed": true,
    "jupyter": {
     "outputs_hidden": true
    }
   },
   "outputs": [],
   "source": [
    "type(pkmn[['Name']])"
   ]
  },
  {
   "cell_type": "code",
   "execution_count": null,
   "metadata": {
    "collapsed": true,
    "jupyter": {
     "outputs_hidden": true
    }
   },
   "outputs": [],
   "source": [
    "type(pkmn['Name'])"
   ]
  },
  {
   "cell_type": "markdown",
   "metadata": {},
   "source": [
    "Outra forma de se obter um objeto do tipo *Series* é passando a coluna como se fosse um atributo do *DataFrame*:"
   ]
  },
  {
   "cell_type": "code",
   "execution_count": null,
   "metadata": {
    "collapsed": true,
    "jupyter": {
     "outputs_hidden": true
    }
   },
   "outputs": [],
   "source": [
    "pkmn.Name"
   ]
  },
  {
   "cell_type": "markdown",
   "metadata": {},
   "source": [
    "O único problema desse formato é que colunas cujo nome contém espaços não funcionarão, como é o caso das colunas *Type 1*, *Type 2*, *Sp. Atk* e *Sp. Def*. Para resolver isso, vamos renomeá-las com o método *.rename()*."
   ]
  },
  {
   "cell_type": "code",
   "execution_count": null,
   "metadata": {
    "collapsed": true,
    "jupyter": {
     "outputs_hidden": true
    }
   },
   "outputs": [],
   "source": [
    "pkmn.rename(\n",
    "    columns={'Type 1':'Type_1', 'Type 2':'Type_2', 'Sp. Atk':'Sp_Atk','Sp. Def':'Sp_Def'}, #passando o nome antigo e novo como um dicionário\n",
    "    inplace = True #algumas operações com Pandas criam uma cópia do DataFrame e não alteram o objeto em si, alteramos isso mudando o parâmetro inplace para verdadeiro\n",
    ")"
   ]
  },
  {
   "cell_type": "code",
   "execution_count": null,
   "metadata": {
    "collapsed": true,
    "jupyter": {
     "outputs_hidden": true
    }
   },
   "outputs": [],
   "source": [
    "pkmn.info()"
   ]
  },
  {
   "cell_type": "markdown",
   "metadata": {},
   "source": [
    "Agora que os nomes foram trocados, podemos obter um objeto *Series* do tipo do Pokémon como a seguir:"
   ]
  },
  {
   "cell_type": "code",
   "execution_count": null,
   "metadata": {
    "collapsed": true,
    "jupyter": {
     "outputs_hidden": true
    }
   },
   "outputs": [],
   "source": [
    "pkmn.Type_1"
   ]
  },
  {
   "cell_type": "markdown",
   "metadata": {},
   "source": [
    "Outra forma de selecionar partes dos dados é usando os métodos *.loc()* e *.iloc()*.<br>\n",
    "Para usar a localização númerica utilizamos o *iloc*. Como você pode imaginar, a linhas e colunas são ordenadas por números inteiros sequenciais, começando do 0, como nas listas. Dessa forma, se você sabe o número da linha e da coluna, você pode usar o *iloc*. Por exemplo, se quisermos a coluna HP, que é a 6ª, poderíamos fazer o seguinte:"
   ]
  },
  {
   "cell_type": "code",
   "execution_count": null,
   "metadata": {
    "collapsed": true,
    "jupyter": {
     "outputs_hidden": true
    }
   },
   "outputs": [],
   "source": [
    "pkmn.iloc[:,5].head()"
   ]
  },
  {
   "cell_type": "markdown",
   "metadata": {},
   "source": [
    "A sintaxe do *iloc* é como [x,y], que significa que queremos a (x+1)ª linha e (y+1)ª coluna. Se utilizarmos ':' no lugar de x ou y significa que queremos a coluna ou linha completa, respectivamente. Vamos pegar o HP do Bulbasaur, o primeiro Pokémon do nosso *DataFrame*:"
   ]
  },
  {
   "cell_type": "code",
   "execution_count": null,
   "metadata": {
    "collapsed": true,
    "jupyter": {
     "outputs_hidden": true
    }
   },
   "outputs": [],
   "source": [
    "print(\"O HP do Bulbasaur é \"+str(pkmn.iloc[0,5]))"
   ]
  },
  {
   "cell_type": "markdown",
   "metadata": {},
   "source": [
    "O método *.loc()* usa o rótulo para acessar os valores. Dessa forma, ao invés de passarmos as coordenadas numéricas, passamos o nome da linha e da coluna, como a seguir:"
   ]
  },
  {
   "cell_type": "code",
   "execution_count": null,
   "metadata": {
    "collapsed": true,
    "jupyter": {
     "outputs_hidden": true
    }
   },
   "outputs": [],
   "source": [
    "pkmn.loc[0, :]"
   ]
  },
  {
   "cell_type": "markdown",
   "metadata": {},
   "source": [
    "No caso, os rótulos das linhas são iguais às suas coordenadas, por isso ficou parecido com o *iloc*. Vamos fazer o teste com as colunas também para ver a diferença. Abaixo pegaremos novamente o HP do Bulbasaur:"
   ]
  },
  {
   "cell_type": "code",
   "execution_count": null,
   "metadata": {
    "collapsed": true,
    "jupyter": {
     "outputs_hidden": true
    }
   },
   "outputs": [],
   "source": [
    "print(\"O HP do Bulbasaur é \"+str(pkmn.loc[0,'HP']))"
   ]
  },
  {
   "cell_type": "markdown",
   "metadata": {},
   "source": [
    "#### 5.3.2 Filtros (*Filtering*)\n",
    "\n",
    "Uma vez sabendo isolar partes do *DataFrame* de acordo com a localização dos dados, podemos partir para isolar de acordo com condições, ou seja, filtrar os dados.\n",
    "Para conseguir fazer isso no Pandas, fazemos o seguinte: passamos uma expressão condicional e o Pandas retorna apenas as partes que teriam a condição como verdade. Para testar isso, vamos ver a defesa média de todas os Pokémons e depois ver se os tipos 'Rock' e 'Steel' tem defesas maiores:"
   ]
  },
  {
   "cell_type": "code",
   "execution_count": null,
   "metadata": {
    "collapsed": true,
    "jupyter": {
     "outputs_hidden": true
    }
   },
   "outputs": [],
   "source": [
    "pkmn.Defense.mean() #note que operações comuns como média (mean), mediana (median) e soma (sum) são métodos do Pandas"
   ]
  },
  {
   "cell_type": "code",
   "execution_count": null,
   "metadata": {
    "collapsed": true,
    "jupyter": {
     "outputs_hidden": true
    }
   },
   "outputs": [],
   "source": [
    "pkmn.loc[pkmn.Type_1=='Rock'].Defense.mean()"
   ]
  },
  {
   "cell_type": "code",
   "execution_count": null,
   "metadata": {
    "collapsed": true,
    "jupyter": {
     "outputs_hidden": true
    }
   },
   "outputs": [],
   "source": [
    "pkmn[pkmn.Type_1=='Steel'].Defense.mean()"
   ]
  },
  {
   "cell_type": "markdown",
   "metadata": {},
   "source": [
    "De fato, parece que os tipos selecionados tem média acima dos demais Pokémons. Para verificar isso, passamos a condição pkmn.Type_1=='Steel' entre chaves, o que retorna apenas as linhas de tal tipo. Com isso, selecionamos apenas a coluna de defesa e calculamos a média. <br>\n",
    "Vamos ver agora os Pokémons com defesa maior que 150, cujo tipo principal não é 'Rock' nem 'Steel':"
   ]
  },
  {
   "cell_type": "code",
   "execution_count": null,
   "metadata": {
    "collapsed": true,
    "jupyter": {
     "outputs_hidden": true
    }
   },
   "outputs": [],
   "source": [
    "pkmn[(pkmn.Defense > 150)&(pkmn.Type_1!='Rock')&(pkmn.Type_1!='Steel')]"
   ]
  },
  {
   "cell_type": "markdown",
   "metadata": {},
   "source": [
    "Podemos ver acima que é possível juntar condições com os operadores E (&) e OU (|), como vimos no inicio da aula.<br>\n",
    "Vamos dizer agora que você quer apenas alguns Pokémons em específico, por exemplo Venusaur, Charizard e Blastoise. Criar uma condição para cada e uní-las com o operador & pode ser difícil, ainda mais se for uma quantidade grande de opções. Podemos facilitar isso passando uma tupla ao método *.isin()*, como abaixo:"
   ]
  },
  {
   "cell_type": "code",
   "execution_count": null,
   "metadata": {
    "collapsed": true,
    "jupyter": {
     "outputs_hidden": true
    }
   },
   "outputs": [],
   "source": [
    "aux = ('Venusaur', 'Charizard', 'Blastoise')\n",
    "pkmn[pkmn.Name.isin(aux)]"
   ]
  },
  {
   "cell_type": "markdown",
   "metadata": {},
   "source": [
    "Finalmente, podemos criar novos *DataFrames* de um já existente selecionando apenas algumas linhas ou colunas dele:"
   ]
  },
  {
   "cell_type": "code",
   "execution_count": null,
   "metadata": {
    "collapsed": true,
    "jupyter": {
     "outputs_hidden": true
    }
   },
   "outputs": [],
   "source": [
    "offensive_stats = pkmn[['#','Name','Attack','Sp_Atk','Speed']] #selecionando apenas estatísticas ofensivas\n",
    "defensive_stats = pkmn[['#','Name', 'HP','Defense','Sp_Def']] #selecionando apenas estatísticas defensivas"
   ]
  },
  {
   "cell_type": "code",
   "execution_count": null,
   "metadata": {
    "collapsed": true,
    "jupyter": {
     "outputs_hidden": true
    }
   },
   "outputs": [],
   "source": [
    "offensive_stats.head()"
   ]
  },
  {
   "cell_type": "code",
   "execution_count": null,
   "metadata": {
    "collapsed": true,
    "jupyter": {
     "outputs_hidden": true
    }
   },
   "outputs": [],
   "source": [
    "defensive_stats.head()"
   ]
  },
  {
   "cell_type": "code",
   "execution_count": null,
   "metadata": {
    "collapsed": true,
    "jupyter": {
     "outputs_hidden": true
    }
   },
   "outputs": [],
   "source": [
    "fire_pkmn = pkmn[(pkmn.Type_1=='Fire')|(pkmn.Type_2=='Fire')] #filtrando apenas linhas com algumas condições\n",
    "fire_pkmn.head()"
   ]
  },
  {
   "cell_type": "code",
   "execution_count": null,
   "metadata": {
    "collapsed": true,
    "jupyter": {
     "outputs_hidden": true
    }
   },
   "outputs": [],
   "source": [
    "water_pkmn = pkmn[(pkmn.Type_1=='Water')|(pkmn.Type_2=='Water')] #filtrando apenas linhas com algumas condições\n",
    "water_pkmn.head()"
   ]
  },
  {
   "cell_type": "markdown",
   "metadata": {},
   "source": [
    "#### Exercício 5.2\n",
    "Siga as instruções e substituas os \\____ para exercitar o que aprendemos."
   ]
  },
  {
   "cell_type": "code",
   "execution_count": null,
   "metadata": {
    "collapsed": true,
    "jupyter": {
     "outputs_hidden": true
    }
   },
   "outputs": [],
   "source": [
    "# mostre as 5 primeiras linhas das colunas player_name, position and nationality\n",
    "fut_players[[____]]._____"
   ]
  },
  {
   "cell_type": "code",
   "execution_count": null,
   "metadata": {
    "collapsed": true,
    "jupyter": {
     "outputs_hidden": true
    }
   },
   "outputs": [],
   "source": [
    "#renomeie as colunas player_id, player_name and player_extended_name para id, name and extended_name, respectivamente\n",
    "fut_players.____(\n",
    "    columns={____},\n",
    "    inplace = True\n",
    ")\n",
    "\n",
    "fut_players.info()"
   ]
  },
  {
   "cell_type": "code",
   "execution_count": null,
   "metadata": {
    "collapsed": true,
    "jupyter": {
     "outputs_hidden": true
    }
   },
   "outputs": [],
   "source": [
    "#imprima a coluna player_extended_name do 4534º jogador usando loc e iloc\n",
    "print(fut_players.iloc[____])\n",
    "print(fut_players.loc[____])"
   ]
  },
  {
   "cell_type": "code",
   "execution_count": null,
   "metadata": {
    "collapsed": true,
    "jupyter": {
     "outputs_hidden": true
    }
   },
   "outputs": [],
   "source": [
    "#nosso DataFrame tem muitas colunas\n",
    "#crie outro DataFrame (fut_players_2) apenas com as colunas na lista abaixo\n",
    "selected_columns = ['id', 'name', 'overall', 'nationality', 'position', 'pref_foot', 'base_id']\n",
    "\n",
    "fut_players_2 = ____\n",
    "\n",
    "fut_players_2.info()"
   ]
  },
  {
   "cell_type": "code",
   "execution_count": null,
   "metadata": {
    "collapsed": true,
    "jupyter": {
     "outputs_hidden": true
    }
   },
   "outputs": [],
   "source": [
    "#queremos ver os melhores jogadores nascidos no Brasil (Brazil), isto é, aqueles com médio (overall) acima de 90\n",
    "#mostre os 15 primeiros\n",
    "aux_1 = fut_players_2[____]\n",
    "aux_1.____"
   ]
  },
  {
   "cell_type": "code",
   "execution_count": null,
   "metadata": {
    "collapsed": true,
    "jupyter": {
     "outputs_hidden": true
    }
   },
   "outputs": [],
   "source": [
    "#vários jogadores bons!\n",
    "#agora mostre os jogadores brasileiros que sejam canhotos (pref_foot é Left) ou que sejam goleiros (position é GK)\n",
    "aux_2 = fut_players_2[____]\n",
    "aux_2.head(20)"
   ]
  },
  {
   "cell_type": "markdown",
   "metadata": {},
   "source": [
    "### 5.4 Juntando DataFrames\n",
    "\n",
    "É muito comum ter a necessidade de juntar *DataFrames* diferentes. Se você já utilizou SQL ou qualquer outro banco de dados relacional, deve conhecer isso como *join*. O Pandas também tem a mesma função utilizando o método *.merge()*. Antes do exemplo, vamos relembrar os tipos de *joins* mais comuns:<br>\n",
    "![Joining Methods](https://arquivo.devmedia.com.br/artigos/Fernanda_sallai/sql_join/image001.jpg) <br>\n",
    "Agora, vamos testar os *merge* nos *DataFrames* filtrados que criamos anteriormente:"
   ]
  },
  {
   "cell_type": "code",
   "execution_count": null,
   "metadata": {
    "collapsed": true,
    "jupyter": {
     "outputs_hidden": true
    }
   },
   "outputs": [],
   "source": [
    "all_stats = pd.merge(\n",
    "    offensive_stats, #o DataDrame da esquerda\n",
    "    defensive_stats, #o DataDrame da direita\n",
    "    how='inner', #o tipo de join que queremos fazer\n",
    "    on=['#','Name']) #baseado em quais valores em comum\n",
    "all_stats.info()"
   ]
  },
  {
   "cell_type": "markdown",
   "metadata": {},
   "source": [
    "Ótimo! Conseguimos fazer o *merge* (termo mais utilizado no Pandas) de dois *DataDrames*. Lembre-se que *inner*, *left*, *right* e *outer* terão resultados diferentes:"
   ]
  },
  {
   "cell_type": "code",
   "execution_count": null,
   "metadata": {
    "collapsed": true,
    "jupyter": {
     "outputs_hidden": true
    }
   },
   "outputs": [],
   "source": [
    "fire_pkmn.info()"
   ]
  },
  {
   "cell_type": "code",
   "execution_count": null,
   "metadata": {
    "collapsed": true,
    "jupyter": {
     "outputs_hidden": true
    }
   },
   "outputs": [],
   "source": [
    "water_pkmn.info()"
   ]
  },
  {
   "cell_type": "code",
   "execution_count": null,
   "metadata": {
    "collapsed": true,
    "jupyter": {
     "outputs_hidden": true
    }
   },
   "outputs": [],
   "source": [
    "left_fire_water = pd.merge(fire_pkmn, water_pkmn, how='left', on=['#','Name'])\n",
    "left_fire_water.info()"
   ]
  },
  {
   "cell_type": "code",
   "execution_count": null,
   "metadata": {
    "collapsed": true,
    "jupyter": {
     "outputs_hidden": true
    }
   },
   "outputs": [],
   "source": [
    "right_fire_water = pd.merge(fire_pkmn, water_pkmn, how='right', on=['#','Name'])\n",
    "right_fire_water.info()"
   ]
  },
  {
   "cell_type": "code",
   "execution_count": null,
   "metadata": {
    "collapsed": true,
    "jupyter": {
     "outputs_hidden": true
    }
   },
   "outputs": [],
   "source": [
    "inner_fire_water = pd.merge(fire_pkmn, water_pkmn, how='inner', on=['#','Name'])\n",
    "inner_fire_water.info()"
   ]
  },
  {
   "cell_type": "markdown",
   "metadata": {},
   "source": [
    "Como podemos ver, os resultados são de fato bem diferentes.<br>\n",
    "Podemos também querer apenas concatenar dois *DataDrames*, isto é, juntá-los colocando um abaixo ou ao lado do outro. Para isso, utilizamos o método *.concat()*:"
   ]
  },
  {
   "cell_type": "code",
   "execution_count": null,
   "metadata": {
    "collapsed": true,
    "jupyter": {
     "outputs_hidden": true
    }
   },
   "outputs": [],
   "source": [
    "fire_and_water = pd.concat([fire_pkmn, water_pkmn], ignore_index=True)\n",
    "fire_and_water.info()"
   ]
  },
  {
   "cell_type": "markdown",
   "metadata": {},
   "source": [
    "Acima fizemos a concatenação vertical. Vamos fazer a horizontal abaixo:"
   ]
  },
  {
   "cell_type": "code",
   "execution_count": null,
   "metadata": {
    "collapsed": true,
    "jupyter": {
     "outputs_hidden": true
    }
   },
   "outputs": [],
   "source": [
    "atk_and_defense = pd.concat([offensive_stats, defensive_stats], axis=1)\n",
    "atk_and_defense.head()"
   ]
  },
  {
   "cell_type": "markdown",
   "metadata": {},
   "source": [
    "#### Exercício 5.3\n",
    "Mais uma vez, substitua os \\____ de acordo com as instruções"
   ]
  },
  {
   "cell_type": "code",
   "execution_count": null,
   "metadata": {
    "collapsed": true,
    "jupyter": {
     "outputs_hidden": true
    }
   },
   "outputs": [],
   "source": [
    "#the_best é um DataDrame dos melhores jogadores em drible (dribbling) e chute (shooting)\n",
    "the_best = fut_players[(fut_players.dribbling > 90) & (fut_players.shooting > 90)][['id', 'name', 'position', 'dribbling', 'shooting', 'overall']]\n",
    "\n",
    "#nationalities é um DataDrame da nacionalidade dos jogadores\n",
    "nationalities = fut_players[['id', 'name', 'nationality']]\n",
    "\n",
    "#faça um merge dos dois DataDrames para obter a nacionalidade dos melhores jogadores (dica: chave é o id)\n",
    "the_best_nationality = pd.merge(____)\n",
    "the_best_nationality.head()"
   ]
  },
  {
   "cell_type": "markdown",
   "metadata": {},
   "source": [
    "### 5.5 Operações em grupo\n",
    "\n",
    "Com Pandas nós podemos aplicar operações em grupos usando o método *.groupby()*. Ele é muito útil por ser uma forma bem simples de extrair informação de dados agregados. Para utilizá-lo, passamos as colunas nas quais queremos agrupar os dados e a operação que queremos fazer. Para exemplificar, vamos ver quantos Pokémons lendários cada geração tem:"
   ]
  },
  {
   "cell_type": "code",
   "execution_count": null,
   "metadata": {
    "collapsed": true,
    "jupyter": {
     "outputs_hidden": true
    }
   },
   "outputs": [],
   "source": [
    "pkmn.groupby('Generation').Legendary.sum() #fazendo uma soma pois a coluna Legendary é boolean"
   ]
  },
  {
   "cell_type": "markdown",
   "metadata": {},
   "source": [
    "Podemos obter um relatório da média de diversas colunas para cada tipo de Pokémon:"
   ]
  },
  {
   "cell_type": "code",
   "execution_count": null,
   "metadata": {
    "collapsed": true,
    "jupyter": {
     "outputs_hidden": true
    }
   },
   "outputs": [],
   "source": [
    "pkmn.groupby('Type_1')[['HP','Attack','Defense','Sp_Atk','Sp_Def','Speed']].mean()"
   ]
  },
  {
   "cell_type": "markdown",
   "metadata": {},
   "source": [
    "Isso é realmente muito importante e extremamente utilizado com pandas pois conseguimos fazer análises dos grupos com apenas uma linha de código. Podemos perceber, por exemplo, que Pokémons do tipo *Flying* são especialistas em velocidade enquanto *Dragon* e *Fighting* são especialistas em ataque.\n",
    "\n",
    "#### Exercício 5.4\n",
    "Use o método *.groupby()* para descobrir qual país tem o melhor *overall* médio."
   ]
  },
  {
   "cell_type": "code",
   "execution_count": null,
   "metadata": {
    "collapsed": true,
    "jupyter": {
     "outputs_hidden": true
    }
   },
   "outputs": [],
   "source": [
    "#cria o DataDrame country_avg_overall, que tem o overall médio de cada país, usando groupby\n",
    "country_avg_overall = fut_players.groupby(____).____\n",
    "\n",
    "#usamos o método idxmax() para encontrar o maior overall médio\n",
    "print(\"Melhor overall médio: \", country_avg_overall.loc[country_avg_overall.idxmax()])\n",
    "print(\"Overall médio do Brasil: \", country_avg_overall.loc[\"Brazil\"])"
   ]
  },
  {
   "cell_type": "markdown",
   "metadata": {},
   "source": [
    "### 5.6 Aplicando funções no Pandas\n",
    "\n",
    "Com Pandas, nós temos um grande nível de controle de nossos dados, e somos capazes de transformá-los conforme queiramos. Nós podemos, até mesmo, executar funções em DataFrames e manipulá-lo como quisermos. Vamos revisitar o método info()\n",
    "With Pandas, we have a deep level of control of our data, and are able to transform it as we like. We can even perform functions over the DataFrame and manipulate it as we like. Let's revisit the head() method:"
   ]
  },
  {
   "cell_type": "code",
   "execution_count": null,
   "metadata": {
    "collapsed": true,
    "jupyter": {
     "outputs_hidden": true
    }
   },
   "outputs": [],
   "source": [
    "pkmn.head(13)"
   ]
  },
  {
   "cell_type": "markdown",
   "metadata": {},
   "source": [
    "Existem algumas mega evoluções misturadas no dataset. Não seria legal se nós tivéssemos alguma flag que nos diria se um pokémon é mega ou não? E, por um acaso, será que os pokémons mega são mais poderosos?\n",
    "\n",
    "Você deve ter percebido que evoluções mega têm um padrão em nosso DataFrame, algo como 'PokemonMega Pokemon'. Se nós tivermos esse padrão, podemos construir uma função que retorna True is este padrão for detectado:"
   ]
  },
  {
   "cell_type": "code",
   "execution_count": null,
   "metadata": {
    "collapsed": true,
    "jupyter": {
     "outputs_hidden": true
    }
   },
   "outputs": [],
   "source": [
    "def is_it_mega(pokemon_name):\n",
    "    \"\"\"\n",
    "    Recebe um nome de pokemon e diz se é uma mega evolução ou não\n",
    "    I: string pokemon_name\n",
    "    O: boolean para Mega evos\n",
    "    \"\"\"\n",
    "    if 'Mega ' in pokemon_name: #é importante usar 'Mega ' e não 'mega', pois há um pokemon chamado called Yanmega e outro chamado Meganium que não são uma mega evolução\n",
    "        return True\n",
    "    else:\n",
    "        return False"
   ]
  },
  {
   "cell_type": "markdown",
   "metadata": {},
   "source": [
    "Vamos ver se funciona:"
   ]
  },
  {
   "cell_type": "code",
   "execution_count": null,
   "metadata": {
    "collapsed": true,
    "jupyter": {
     "outputs_hidden": true
    }
   },
   "outputs": [],
   "source": [
    "is_it_mega('VenusaurMega Venusaur')"
   ]
  },
  {
   "cell_type": "code",
   "execution_count": null,
   "metadata": {
    "collapsed": true,
    "jupyter": {
     "outputs_hidden": true
    }
   },
   "outputs": [],
   "source": [
    "is_it_mega('Squirtle')"
   ]
  },
  {
   "cell_type": "markdown",
   "metadata": {},
   "source": [
    "Excelente! Seria ótimo se conseguíssemos aplicar essa função em todo nosso DataFrame. Para fazer isso, usaremos o método .apply(). Também criaremos uma coluna que é uma flag se o pokémon é mega:"
   ]
  },
  {
   "cell_type": "code",
   "execution_count": null,
   "metadata": {
    "collapsed": true,
    "jupyter": {
     "outputs_hidden": true
    }
   },
   "outputs": [],
   "source": [
    "pkmn['Mega'] = pkmn.apply(\n",
    "    lambda row: is_it_mega(row['Name']), #chamando uma função lambda que acabamos de construir\n",
    "    axis=1 #qual direção queremos executar a função. 0 para horizontal, 1 para vertical\n",
    ")"
   ]
  },
  {
   "cell_type": "code",
   "execution_count": null,
   "metadata": {
    "collapsed": true,
    "jupyter": {
     "outputs_hidden": true
    }
   },
   "outputs": [],
   "source": [
    "pkmn.head()"
   ]
  },
  {
   "cell_type": "markdown",
   "metadata": {},
   "source": [
    "Agora, vamos verificar quão poderosos são os pokémons mega:"
   ]
  },
  {
   "cell_type": "code",
   "execution_count": null,
   "metadata": {
    "collapsed": true,
    "jupyter": {
     "outputs_hidden": true
    }
   },
   "outputs": [],
   "source": [
    "pkmn.groupby('Mega').Total.mean()"
   ]
  },
  {
   "cell_type": "markdown",
   "metadata": {},
   "source": [
    "Uau! Eles têm quase 200 stat points a mais que pokémons normais! Evoluções mega são, sim, muito poderosos! Uma boa prática é sempre tentar manter nosso DataFrame organizado. A forma como os pokémons mega estão nomeados não é muito ótima, e nós já temos uma coluna com a flag para pokémons Mega, então, vamos atacar isso! A estrutura do nome de um pokémon mega é da seguinte forma: 'NomeMega Nome'. Portanto, se nós pegarmos o qeu vem após o caractere ' ', teremos o nome original do pokémon!"
   ]
  },
  {
   "cell_type": "code",
   "execution_count": null,
   "metadata": {
    "collapsed": true,
    "jupyter": {
     "outputs_hidden": true
    }
   },
   "outputs": [],
   "source": [
    "pkmn.Name.nunique() #counts unique elements in a given column"
   ]
  },
  {
   "cell_type": "code",
   "execution_count": null,
   "metadata": {
    "collapsed": true,
    "jupyter": {
     "outputs_hidden": true
    }
   },
   "outputs": [],
   "source": [
    "def get_original_name(s):\n",
    "    \"\"\"\n",
    "    Receibe um nome de pokemon e retornar seu nome original\n",
    "    I: s string\n",
    "    O: string\n",
    "    \"\"\"\n",
    "    return s.split(' ')[-1]\n",
    "\n",
    "pkmn['Name'] = pkmn.Name.apply(lambda s: get_original_name(s)) #sobreescrevendo a coluna Name\n",
    "pkmn.Name.nunique()"
   ]
  },
  {
   "cell_type": "code",
   "execution_count": null,
   "metadata": {
    "collapsed": true,
    "jupyter": {
     "outputs_hidden": true
    }
   },
   "outputs": [],
   "source": [
    "pkmn.head()"
   ]
  },
  {
   "cell_type": "markdown",
   "metadata": {},
   "source": [
    "Parece que conseguimos limpar o nome deles! Agora nós cobrimos todas a parte básica de Pandas! Vamos praticar essa última parte!\n",
    "\n",
    "#### Exercício 5.5\n",
    "Crie uma função que retorna a classificação para o jogador de acordo com as instruções abaixo, então aplique isso para o dataframe fut_players."
   ]
  },
  {
   "cell_type": "code",
   "execution_count": null,
   "metadata": {
    "collapsed": true,
    "jupyter": {
     "outputs_hidden": true
    }
   },
   "outputs": [],
   "source": [
    "def get_classification(overall):\n",
    "    \"\"\"\n",
    "    Recebe um overall de algum jogador e retorna a classificação conforme a seguir:\n",
    "    Overall -> classification\n",
    "    -50     -> \"Amador\"\n",
    "    50-60   -> \"Ruim\"\n",
    "    60-70   -> \"Ok\"\n",
    "    70-80   -> \"Bom\"\n",
    "    80-90   -> \"Ótimo\"\n",
    "    90+     -> \"Lenda\"\n",
    "    \n",
    "    I: int overall\n",
    "    O: string\n",
    "    \"\"\"\n",
    "    ____\n",
    "    \n",
    "fut_players[\"classification\"] = ____\n",
    "fut_players.head()"
   ]
  },
  {
   "cell_type": "code",
   "execution_count": null,
   "metadata": {
    "collapsed": true,
    "jupyter": {
     "outputs_hidden": true
    }
   },
   "outputs": [],
   "source": []
  }
 ],
 "metadata": {
  "kernelspec": {
   "display_name": "Python 3",
   "language": "python",
   "name": "python3"
  },
  "language_info": {
   "codemirror_mode": {
    "name": "ipython",
    "version": 3
   },
   "file_extension": ".py",
   "mimetype": "text/x-python",
   "name": "python",
   "nbconvert_exporter": "python",
   "pygments_lexer": "ipython3",
   "version": "3.7.5"
  }
 },
 "nbformat": 4,
 "nbformat_minor": 4
}
